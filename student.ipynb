{
 "cells": [
  {
   "cell_type": "markdown",
   "metadata": {},
   "source": [
    "# Final Project Submission\n",
    "\n",
    "Please fill out:\n",
    "* Student name: Stephen Mwangi Thuo\n",
    "* Student pace: part time \n",
    "* Scheduled project review date/time: \n",
    "* Instructor name: \n",
    "* Blog post URL:\n"
   ]
  },
  {
   "cell_type": "markdown",
   "metadata": {},
   "source": [
    "# Project Overview\n",
    "Performing Regression analysis on housing data. The project will determine what features a real estate agency should focus on to ensure their units fetch higher prices in the market and give actionable recommendations. "
   ]
  },
  {
   "cell_type": "markdown",
   "metadata": {},
   "source": [
    "# Business Problem\n",
    "\n",
    "A housing agency seeks to determine what features of house units determine the prices. Using this information the agency can advise home owners on what features will ensure better market price for their houses. "
   ]
  },
  {
   "cell_type": "markdown",
   "metadata": {},
   "source": [
    "# Data Understanding\n",
    "To perform the analysis we have data from Kings County."
   ]
  },
  {
   "cell_type": "markdown",
   "metadata": {},
   "source": [
    "### Loading The Data"
   ]
  },
  {
   "cell_type": "code",
   "execution_count": 1,
   "metadata": {},
   "outputs": [],
   "source": [
    "import pandas as pd\n",
    "import numpy as np\n",
    "import matplotlib.pyplot as plt"
   ]
  },
  {
   "cell_type": "code",
   "execution_count": 2,
   "metadata": {},
   "outputs": [
    {
     "data": {
      "text/html": [
       "<div>\n",
       "<style scoped>\n",
       "    .dataframe tbody tr th:only-of-type {\n",
       "        vertical-align: middle;\n",
       "    }\n",
       "\n",
       "    .dataframe tbody tr th {\n",
       "        vertical-align: top;\n",
       "    }\n",
       "\n",
       "    .dataframe thead th {\n",
       "        text-align: right;\n",
       "    }\n",
       "</style>\n",
       "<table border=\"1\" class=\"dataframe\">\n",
       "  <thead>\n",
       "    <tr style=\"text-align: right;\">\n",
       "      <th></th>\n",
       "      <th>id</th>\n",
       "      <th>date</th>\n",
       "      <th>price</th>\n",
       "      <th>bedrooms</th>\n",
       "      <th>bathrooms</th>\n",
       "      <th>sqft_living</th>\n",
       "      <th>sqft_lot</th>\n",
       "      <th>floors</th>\n",
       "      <th>waterfront</th>\n",
       "      <th>view</th>\n",
       "      <th>...</th>\n",
       "      <th>grade</th>\n",
       "      <th>sqft_above</th>\n",
       "      <th>sqft_basement</th>\n",
       "      <th>yr_built</th>\n",
       "      <th>yr_renovated</th>\n",
       "      <th>zipcode</th>\n",
       "      <th>lat</th>\n",
       "      <th>long</th>\n",
       "      <th>sqft_living15</th>\n",
       "      <th>sqft_lot15</th>\n",
       "    </tr>\n",
       "  </thead>\n",
       "  <tbody>\n",
       "    <tr>\n",
       "      <th>0</th>\n",
       "      <td>7129300520</td>\n",
       "      <td>10/13/2014</td>\n",
       "      <td>221900.0</td>\n",
       "      <td>3</td>\n",
       "      <td>1.00</td>\n",
       "      <td>1180</td>\n",
       "      <td>5650</td>\n",
       "      <td>1.0</td>\n",
       "      <td>NaN</td>\n",
       "      <td>0.0</td>\n",
       "      <td>...</td>\n",
       "      <td>7</td>\n",
       "      <td>1180</td>\n",
       "      <td>0.0</td>\n",
       "      <td>1955</td>\n",
       "      <td>0.0</td>\n",
       "      <td>98178</td>\n",
       "      <td>47.5112</td>\n",
       "      <td>-122.257</td>\n",
       "      <td>1340</td>\n",
       "      <td>5650</td>\n",
       "    </tr>\n",
       "    <tr>\n",
       "      <th>1</th>\n",
       "      <td>6414100192</td>\n",
       "      <td>12/9/2014</td>\n",
       "      <td>538000.0</td>\n",
       "      <td>3</td>\n",
       "      <td>2.25</td>\n",
       "      <td>2570</td>\n",
       "      <td>7242</td>\n",
       "      <td>2.0</td>\n",
       "      <td>0.0</td>\n",
       "      <td>0.0</td>\n",
       "      <td>...</td>\n",
       "      <td>7</td>\n",
       "      <td>2170</td>\n",
       "      <td>400.0</td>\n",
       "      <td>1951</td>\n",
       "      <td>1991.0</td>\n",
       "      <td>98125</td>\n",
       "      <td>47.7210</td>\n",
       "      <td>-122.319</td>\n",
       "      <td>1690</td>\n",
       "      <td>7639</td>\n",
       "    </tr>\n",
       "    <tr>\n",
       "      <th>2</th>\n",
       "      <td>5631500400</td>\n",
       "      <td>2/25/2015</td>\n",
       "      <td>180000.0</td>\n",
       "      <td>2</td>\n",
       "      <td>1.00</td>\n",
       "      <td>770</td>\n",
       "      <td>10000</td>\n",
       "      <td>1.0</td>\n",
       "      <td>0.0</td>\n",
       "      <td>0.0</td>\n",
       "      <td>...</td>\n",
       "      <td>6</td>\n",
       "      <td>770</td>\n",
       "      <td>0.0</td>\n",
       "      <td>1933</td>\n",
       "      <td>NaN</td>\n",
       "      <td>98028</td>\n",
       "      <td>47.7379</td>\n",
       "      <td>-122.233</td>\n",
       "      <td>2720</td>\n",
       "      <td>8062</td>\n",
       "    </tr>\n",
       "    <tr>\n",
       "      <th>3</th>\n",
       "      <td>2487200875</td>\n",
       "      <td>12/9/2014</td>\n",
       "      <td>604000.0</td>\n",
       "      <td>4</td>\n",
       "      <td>3.00</td>\n",
       "      <td>1960</td>\n",
       "      <td>5000</td>\n",
       "      <td>1.0</td>\n",
       "      <td>0.0</td>\n",
       "      <td>0.0</td>\n",
       "      <td>...</td>\n",
       "      <td>7</td>\n",
       "      <td>1050</td>\n",
       "      <td>910.0</td>\n",
       "      <td>1965</td>\n",
       "      <td>0.0</td>\n",
       "      <td>98136</td>\n",
       "      <td>47.5208</td>\n",
       "      <td>-122.393</td>\n",
       "      <td>1360</td>\n",
       "      <td>5000</td>\n",
       "    </tr>\n",
       "    <tr>\n",
       "      <th>4</th>\n",
       "      <td>1954400510</td>\n",
       "      <td>2/18/2015</td>\n",
       "      <td>510000.0</td>\n",
       "      <td>3</td>\n",
       "      <td>2.00</td>\n",
       "      <td>1680</td>\n",
       "      <td>8080</td>\n",
       "      <td>1.0</td>\n",
       "      <td>0.0</td>\n",
       "      <td>0.0</td>\n",
       "      <td>...</td>\n",
       "      <td>8</td>\n",
       "      <td>1680</td>\n",
       "      <td>0.0</td>\n",
       "      <td>1987</td>\n",
       "      <td>0.0</td>\n",
       "      <td>98074</td>\n",
       "      <td>47.6168</td>\n",
       "      <td>-122.045</td>\n",
       "      <td>1800</td>\n",
       "      <td>7503</td>\n",
       "    </tr>\n",
       "  </tbody>\n",
       "</table>\n",
       "<p>5 rows × 21 columns</p>\n",
       "</div>"
      ],
      "text/plain": [
       "           id        date     price  bedrooms  bathrooms  sqft_living  \\\n",
       "0  7129300520  10/13/2014  221900.0         3       1.00         1180   \n",
       "1  6414100192   12/9/2014  538000.0         3       2.25         2570   \n",
       "2  5631500400   2/25/2015  180000.0         2       1.00          770   \n",
       "3  2487200875   12/9/2014  604000.0         4       3.00         1960   \n",
       "4  1954400510   2/18/2015  510000.0         3       2.00         1680   \n",
       "\n",
       "   sqft_lot  floors  waterfront  view  ...  grade  sqft_above  sqft_basement  \\\n",
       "0      5650     1.0         NaN   0.0  ...      7        1180            0.0   \n",
       "1      7242     2.0         0.0   0.0  ...      7        2170          400.0   \n",
       "2     10000     1.0         0.0   0.0  ...      6         770            0.0   \n",
       "3      5000     1.0         0.0   0.0  ...      7        1050          910.0   \n",
       "4      8080     1.0         0.0   0.0  ...      8        1680            0.0   \n",
       "\n",
       "  yr_built  yr_renovated  zipcode      lat     long  sqft_living15  sqft_lot15  \n",
       "0     1955           0.0    98178  47.5112 -122.257           1340        5650  \n",
       "1     1951        1991.0    98125  47.7210 -122.319           1690        7639  \n",
       "2     1933           NaN    98028  47.7379 -122.233           2720        8062  \n",
       "3     1965           0.0    98136  47.5208 -122.393           1360        5000  \n",
       "4     1987           0.0    98074  47.6168 -122.045           1800        7503  \n",
       "\n",
       "[5 rows x 21 columns]"
      ]
     },
     "execution_count": 2,
     "metadata": {},
     "output_type": "execute_result"
    }
   ],
   "source": [
    "# Your code here - remember to use markdown cells for comments as well!\n",
    "\n",
    "data = pd.read_csv('kc_house_data.csv')\n",
    "\n",
    "# previewing the data\n",
    "data.head()"
   ]
  },
  {
   "cell_type": "code",
   "execution_count": 3,
   "metadata": {},
   "outputs": [
    {
     "name": "stdout",
     "output_type": "stream",
     "text": [
      "The data has 21597 rows and 21 columns\n"
     ]
    }
   ],
   "source": [
    "# Getting the shape of the data\n",
    "print(f'The data has {data.shape[0]} rows and {data.shape[1]} columns')"
   ]
  },
  {
   "cell_type": "code",
   "execution_count": 5,
   "metadata": {},
   "outputs": [
    {
     "data": {
      "text/plain": [
       "Index(['id', 'date', 'price', 'bedrooms', 'bathrooms', 'sqft_living',\n",
       "       'sqft_lot', 'floors', 'waterfront', 'view', 'condition', 'grade',\n",
       "       'sqft_above', 'sqft_basement', 'yr_built', 'yr_renovated', 'zipcode',\n",
       "       'lat', 'long', 'sqft_living15', 'sqft_lot15'],\n",
       "      dtype='object')"
      ]
     },
     "execution_count": 5,
     "metadata": {},
     "output_type": "execute_result"
    }
   ],
   "source": [
    "# Previewing the columns\n",
    "data.columns"
   ]
  },
  {
   "cell_type": "code",
   "execution_count": 4,
   "metadata": {},
   "outputs": [],
   "source": [
    "# Dropping columns\n",
    "cols_to_drop = ['id', 'date','view', 'sqft_above', 'sqft_basement', 'yr_renovated', 'zipcode', 'lat', 'long', 'sqft_living15', 'sqft_lot15']\n",
    "data.drop(cols_to_drop, axis=1, inplace=True)"
   ]
  },
  {
   "cell_type": "code",
   "execution_count": 7,
   "metadata": {},
   "outputs": [
    {
     "name": "stdout",
     "output_type": "stream",
     "text": [
      "<class 'pandas.core.frame.DataFrame'>\n",
      "RangeIndex: 21597 entries, 0 to 21596\n",
      "Data columns (total 10 columns):\n",
      " #   Column       Non-Null Count  Dtype  \n",
      "---  ------       --------------  -----  \n",
      " 0   price        21597 non-null  float64\n",
      " 1   bedrooms     21597 non-null  int64  \n",
      " 2   bathrooms    21597 non-null  float64\n",
      " 3   sqft_living  21597 non-null  int64  \n",
      " 4   sqft_lot     21597 non-null  int64  \n",
      " 5   floors       21597 non-null  float64\n",
      " 6   waterfront   19221 non-null  float64\n",
      " 7   condition    21597 non-null  int64  \n",
      " 8   grade        21597 non-null  int64  \n",
      " 9   yr_built     21597 non-null  int64  \n",
      "dtypes: float64(4), int64(6)\n",
      "memory usage: 1.6 MB\n"
     ]
    }
   ],
   "source": [
    "# Checking the data types and missing values\n",
    "data.info()"
   ]
  },
  {
   "cell_type": "markdown",
   "metadata": {},
   "source": [
    "* There exist missing values in waterfront and view columns."
   ]
  },
  {
   "cell_type": "markdown",
   "metadata": {},
   "source": [
    "# Scrubbing and Cleaning Data"
   ]
  },
  {
   "cell_type": "markdown",
   "metadata": {},
   "source": [
    "### Dealing With Missing Values"
   ]
  },
  {
   "cell_type": "code",
   "execution_count": 8,
   "metadata": {},
   "outputs": [
    {
     "data": {
      "text/plain": [
       "0.0    19075\n",
       "1.0      146\n",
       "Name: waterfront, dtype: int64"
      ]
     },
     "execution_count": 8,
     "metadata": {},
     "output_type": "execute_result"
    }
   ],
   "source": [
    "# From inspection of the value counts, the null values seems to represent lack of a waterfront\n",
    "data['waterfront'].value_counts()"
   ]
  },
  {
   "cell_type": "code",
   "execution_count": 5,
   "metadata": {},
   "outputs": [],
   "source": [
    "# Replacing the null values with 0\n",
    "data['waterfront'].fillna(value=0.0, inplace=True)"
   ]
  },
  {
   "cell_type": "code",
   "execution_count": 10,
   "metadata": {},
   "outputs": [
    {
     "data": {
      "text/plain": [
       "0.0    21451\n",
       "1.0      146\n",
       "Name: waterfront, dtype: int64"
      ]
     },
     "execution_count": 10,
     "metadata": {},
     "output_type": "execute_result"
    }
   ],
   "source": [
    "# Value count after fill null values\n",
    "data['waterfront'].value_counts()"
   ]
  },
  {
   "cell_type": "markdown",
   "metadata": {},
   "source": [
    "###### Comment:\n",
    "* From the data only 146 houses have a waterfront"
   ]
  },
  {
   "cell_type": "code",
   "execution_count": 11,
   "metadata": {},
   "outputs": [
    {
     "name": "stdout",
     "output_type": "stream",
     "text": [
      "<class 'pandas.core.frame.DataFrame'>\n",
      "RangeIndex: 21597 entries, 0 to 21596\n",
      "Data columns (total 10 columns):\n",
      " #   Column       Non-Null Count  Dtype  \n",
      "---  ------       --------------  -----  \n",
      " 0   price        21597 non-null  float64\n",
      " 1   bedrooms     21597 non-null  int64  \n",
      " 2   bathrooms    21597 non-null  float64\n",
      " 3   sqft_living  21597 non-null  int64  \n",
      " 4   sqft_lot     21597 non-null  int64  \n",
      " 5   floors       21597 non-null  float64\n",
      " 6   waterfront   21597 non-null  float64\n",
      " 7   condition    21597 non-null  int64  \n",
      " 8   grade        21597 non-null  int64  \n",
      " 9   yr_built     21597 non-null  int64  \n",
      "dtypes: float64(4), int64(6)\n",
      "memory usage: 1.6 MB\n"
     ]
    }
   ],
   "source": [
    "# Previewing the datatypes\n",
    "data.info()"
   ]
  },
  {
   "cell_type": "code",
   "execution_count": 12,
   "metadata": {},
   "outputs": [
    {
     "data": {
      "text/html": [
       "<div>\n",
       "<style scoped>\n",
       "    .dataframe tbody tr th:only-of-type {\n",
       "        vertical-align: middle;\n",
       "    }\n",
       "\n",
       "    .dataframe tbody tr th {\n",
       "        vertical-align: top;\n",
       "    }\n",
       "\n",
       "    .dataframe thead th {\n",
       "        text-align: right;\n",
       "    }\n",
       "</style>\n",
       "<table border=\"1\" class=\"dataframe\">\n",
       "  <thead>\n",
       "    <tr style=\"text-align: right;\">\n",
       "      <th></th>\n",
       "      <th>price</th>\n",
       "      <th>bedrooms</th>\n",
       "      <th>bathrooms</th>\n",
       "      <th>sqft_living</th>\n",
       "      <th>sqft_lot</th>\n",
       "      <th>floors</th>\n",
       "      <th>waterfront</th>\n",
       "      <th>condition</th>\n",
       "      <th>grade</th>\n",
       "      <th>yr_built</th>\n",
       "    </tr>\n",
       "  </thead>\n",
       "  <tbody>\n",
       "    <tr>\n",
       "      <th>0</th>\n",
       "      <td>221900.0</td>\n",
       "      <td>3</td>\n",
       "      <td>1.00</td>\n",
       "      <td>1180</td>\n",
       "      <td>5650</td>\n",
       "      <td>1.0</td>\n",
       "      <td>0.0</td>\n",
       "      <td>3</td>\n",
       "      <td>7</td>\n",
       "      <td>1955</td>\n",
       "    </tr>\n",
       "    <tr>\n",
       "      <th>1</th>\n",
       "      <td>538000.0</td>\n",
       "      <td>3</td>\n",
       "      <td>2.25</td>\n",
       "      <td>2570</td>\n",
       "      <td>7242</td>\n",
       "      <td>2.0</td>\n",
       "      <td>0.0</td>\n",
       "      <td>3</td>\n",
       "      <td>7</td>\n",
       "      <td>1951</td>\n",
       "    </tr>\n",
       "    <tr>\n",
       "      <th>2</th>\n",
       "      <td>180000.0</td>\n",
       "      <td>2</td>\n",
       "      <td>1.00</td>\n",
       "      <td>770</td>\n",
       "      <td>10000</td>\n",
       "      <td>1.0</td>\n",
       "      <td>0.0</td>\n",
       "      <td>3</td>\n",
       "      <td>6</td>\n",
       "      <td>1933</td>\n",
       "    </tr>\n",
       "    <tr>\n",
       "      <th>3</th>\n",
       "      <td>604000.0</td>\n",
       "      <td>4</td>\n",
       "      <td>3.00</td>\n",
       "      <td>1960</td>\n",
       "      <td>5000</td>\n",
       "      <td>1.0</td>\n",
       "      <td>0.0</td>\n",
       "      <td>5</td>\n",
       "      <td>7</td>\n",
       "      <td>1965</td>\n",
       "    </tr>\n",
       "    <tr>\n",
       "      <th>4</th>\n",
       "      <td>510000.0</td>\n",
       "      <td>3</td>\n",
       "      <td>2.00</td>\n",
       "      <td>1680</td>\n",
       "      <td>8080</td>\n",
       "      <td>1.0</td>\n",
       "      <td>0.0</td>\n",
       "      <td>3</td>\n",
       "      <td>8</td>\n",
       "      <td>1987</td>\n",
       "    </tr>\n",
       "  </tbody>\n",
       "</table>\n",
       "</div>"
      ],
      "text/plain": [
       "      price  bedrooms  bathrooms  sqft_living  sqft_lot  floors  waterfront  \\\n",
       "0  221900.0         3       1.00         1180      5650     1.0         0.0   \n",
       "1  538000.0         3       2.25         2570      7242     2.0         0.0   \n",
       "2  180000.0         2       1.00          770     10000     1.0         0.0   \n",
       "3  604000.0         4       3.00         1960      5000     1.0         0.0   \n",
       "4  510000.0         3       2.00         1680      8080     1.0         0.0   \n",
       "\n",
       "   condition  grade  yr_built  \n",
       "0          3      7      1955  \n",
       "1          3      7      1951  \n",
       "2          3      6      1933  \n",
       "3          5      7      1965  \n",
       "4          3      8      1987  "
      ]
     },
     "execution_count": 12,
     "metadata": {},
     "output_type": "execute_result"
    }
   ],
   "source": [
    "# Previewing the dataset\n",
    "data.head()"
   ]
  },
  {
   "cell_type": "markdown",
   "metadata": {},
   "source": [
    "### Checking For Duplicated"
   ]
  },
  {
   "cell_type": "code",
   "execution_count": 6,
   "metadata": {},
   "outputs": [
    {
     "data": {
      "text/plain": [
       "8"
      ]
     },
     "execution_count": 6,
     "metadata": {},
     "output_type": "execute_result"
    }
   ],
   "source": [
    "data.duplicated().sum()"
   ]
  },
  {
   "cell_type": "code",
   "execution_count": 15,
   "metadata": {},
   "outputs": [
    {
     "data": {
      "text/html": [
       "<div>\n",
       "<style scoped>\n",
       "    .dataframe tbody tr th:only-of-type {\n",
       "        vertical-align: middle;\n",
       "    }\n",
       "\n",
       "    .dataframe tbody tr th {\n",
       "        vertical-align: top;\n",
       "    }\n",
       "\n",
       "    .dataframe thead th {\n",
       "        text-align: right;\n",
       "    }\n",
       "</style>\n",
       "<table border=\"1\" class=\"dataframe\">\n",
       "  <thead>\n",
       "    <tr style=\"text-align: right;\">\n",
       "      <th></th>\n",
       "      <th>price</th>\n",
       "      <th>bedrooms</th>\n",
       "      <th>bathrooms</th>\n",
       "      <th>sqft_living</th>\n",
       "      <th>sqft_lot</th>\n",
       "      <th>floors</th>\n",
       "      <th>waterfront</th>\n",
       "      <th>condition</th>\n",
       "      <th>grade</th>\n",
       "      <th>yr_built</th>\n",
       "    </tr>\n",
       "  </thead>\n",
       "  <tbody>\n",
       "    <tr>\n",
       "      <th>3947</th>\n",
       "      <td>550000.0</td>\n",
       "      <td>4</td>\n",
       "      <td>1.75</td>\n",
       "      <td>2410</td>\n",
       "      <td>8447</td>\n",
       "      <td>2.0</td>\n",
       "      <td>0.0</td>\n",
       "      <td>4</td>\n",
       "      <td>8</td>\n",
       "      <td>1936</td>\n",
       "    </tr>\n",
       "    <tr>\n",
       "      <th>4348</th>\n",
       "      <td>259950.0</td>\n",
       "      <td>2</td>\n",
       "      <td>2.00</td>\n",
       "      <td>1070</td>\n",
       "      <td>649</td>\n",
       "      <td>2.0</td>\n",
       "      <td>0.0</td>\n",
       "      <td>3</td>\n",
       "      <td>9</td>\n",
       "      <td>2008</td>\n",
       "    </tr>\n",
       "    <tr>\n",
       "      <th>14969</th>\n",
       "      <td>585000.0</td>\n",
       "      <td>3</td>\n",
       "      <td>2.50</td>\n",
       "      <td>2290</td>\n",
       "      <td>5089</td>\n",
       "      <td>2.0</td>\n",
       "      <td>0.0</td>\n",
       "      <td>3</td>\n",
       "      <td>9</td>\n",
       "      <td>2001</td>\n",
       "    </tr>\n",
       "    <tr>\n",
       "      <th>17228</th>\n",
       "      <td>629950.0</td>\n",
       "      <td>3</td>\n",
       "      <td>2.50</td>\n",
       "      <td>1680</td>\n",
       "      <td>1683</td>\n",
       "      <td>2.0</td>\n",
       "      <td>0.0</td>\n",
       "      <td>3</td>\n",
       "      <td>9</td>\n",
       "      <td>2014</td>\n",
       "    </tr>\n",
       "    <tr>\n",
       "      <th>20038</th>\n",
       "      <td>555000.0</td>\n",
       "      <td>3</td>\n",
       "      <td>2.50</td>\n",
       "      <td>1940</td>\n",
       "      <td>3211</td>\n",
       "      <td>2.0</td>\n",
       "      <td>0.0</td>\n",
       "      <td>3</td>\n",
       "      <td>8</td>\n",
       "      <td>2009</td>\n",
       "    </tr>\n",
       "    <tr>\n",
       "      <th>20508</th>\n",
       "      <td>529500.0</td>\n",
       "      <td>3</td>\n",
       "      <td>2.25</td>\n",
       "      <td>1410</td>\n",
       "      <td>905</td>\n",
       "      <td>3.0</td>\n",
       "      <td>0.0</td>\n",
       "      <td>3</td>\n",
       "      <td>9</td>\n",
       "      <td>2014</td>\n",
       "    </tr>\n",
       "    <tr>\n",
       "      <th>21458</th>\n",
       "      <td>359800.0</td>\n",
       "      <td>5</td>\n",
       "      <td>2.50</td>\n",
       "      <td>2170</td>\n",
       "      <td>2752</td>\n",
       "      <td>2.0</td>\n",
       "      <td>0.0</td>\n",
       "      <td>3</td>\n",
       "      <td>8</td>\n",
       "      <td>2014</td>\n",
       "    </tr>\n",
       "    <tr>\n",
       "      <th>21518</th>\n",
       "      <td>599000.0</td>\n",
       "      <td>3</td>\n",
       "      <td>1.75</td>\n",
       "      <td>1650</td>\n",
       "      <td>1180</td>\n",
       "      <td>3.0</td>\n",
       "      <td>0.0</td>\n",
       "      <td>3</td>\n",
       "      <td>8</td>\n",
       "      <td>2014</td>\n",
       "    </tr>\n",
       "  </tbody>\n",
       "</table>\n",
       "</div>"
      ],
      "text/plain": [
       "          price  bedrooms  bathrooms  sqft_living  sqft_lot  floors  \\\n",
       "3947   550000.0         4       1.75         2410      8447     2.0   \n",
       "4348   259950.0         2       2.00         1070       649     2.0   \n",
       "14969  585000.0         3       2.50         2290      5089     2.0   \n",
       "17228  629950.0         3       2.50         1680      1683     2.0   \n",
       "20038  555000.0         3       2.50         1940      3211     2.0   \n",
       "20508  529500.0         3       2.25         1410       905     3.0   \n",
       "21458  359800.0         5       2.50         2170      2752     2.0   \n",
       "21518  599000.0         3       1.75         1650      1180     3.0   \n",
       "\n",
       "       waterfront  condition  grade  yr_built  \n",
       "3947          0.0          4      8      1936  \n",
       "4348          0.0          3      9      2008  \n",
       "14969         0.0          3      9      2001  \n",
       "17228         0.0          3      9      2014  \n",
       "20038         0.0          3      8      2009  \n",
       "20508         0.0          3      9      2014  \n",
       "21458         0.0          3      8      2014  \n",
       "21518         0.0          3      8      2014  "
      ]
     },
     "execution_count": 15,
     "metadata": {},
     "output_type": "execute_result"
    }
   ],
   "source": [
    "# Previewing the duplicated data\n",
    "data[data.duplicated()]"
   ]
  },
  {
   "cell_type": "code",
   "execution_count": 7,
   "metadata": {},
   "outputs": [],
   "source": [
    "# Dropping the duplicated data\n",
    "data.drop_duplicates(keep='last', inplace=True)"
   ]
  },
  {
   "cell_type": "code",
   "execution_count": 18,
   "metadata": {},
   "outputs": [
    {
     "data": {
      "text/plain": [
       "0"
      ]
     },
     "execution_count": 18,
     "metadata": {},
     "output_type": "execute_result"
    }
   ],
   "source": [
    "# Verification of no duplicates in the data\n",
    "data.duplicated().sum()"
   ]
  },
  {
   "cell_type": "markdown",
   "metadata": {},
   "source": [
    "### Checking For Outliers"
   ]
  },
  {
   "cell_type": "code",
   "execution_count": 19,
   "metadata": {},
   "outputs": [
    {
     "data": {
      "text/html": [
       "<div>\n",
       "<style scoped>\n",
       "    .dataframe tbody tr th:only-of-type {\n",
       "        vertical-align: middle;\n",
       "    }\n",
       "\n",
       "    .dataframe tbody tr th {\n",
       "        vertical-align: top;\n",
       "    }\n",
       "\n",
       "    .dataframe thead th {\n",
       "        text-align: right;\n",
       "    }\n",
       "</style>\n",
       "<table border=\"1\" class=\"dataframe\">\n",
       "  <thead>\n",
       "    <tr style=\"text-align: right;\">\n",
       "      <th></th>\n",
       "      <th>price</th>\n",
       "      <th>bedrooms</th>\n",
       "      <th>bathrooms</th>\n",
       "      <th>sqft_living</th>\n",
       "      <th>sqft_lot</th>\n",
       "      <th>floors</th>\n",
       "      <th>waterfront</th>\n",
       "      <th>condition</th>\n",
       "      <th>grade</th>\n",
       "      <th>yr_built</th>\n",
       "    </tr>\n",
       "  </thead>\n",
       "  <tbody>\n",
       "    <tr>\n",
       "      <th>count</th>\n",
       "      <td>2.158900e+04</td>\n",
       "      <td>21589.000000</td>\n",
       "      <td>21589.000000</td>\n",
       "      <td>21589.000000</td>\n",
       "      <td>2.158900e+04</td>\n",
       "      <td>21589.000000</td>\n",
       "      <td>21589.000000</td>\n",
       "      <td>21589.000000</td>\n",
       "      <td>21589.000000</td>\n",
       "      <td>21589.000000</td>\n",
       "    </tr>\n",
       "    <tr>\n",
       "      <th>mean</th>\n",
       "      <td>5.403083e+05</td>\n",
       "      <td>3.373246</td>\n",
       "      <td>2.115788</td>\n",
       "      <td>2080.415536</td>\n",
       "      <td>1.510390e+04</td>\n",
       "      <td>1.493816</td>\n",
       "      <td>0.006763</td>\n",
       "      <td>3.409931</td>\n",
       "      <td>7.657603</td>\n",
       "      <td>1970.988466</td>\n",
       "    </tr>\n",
       "    <tr>\n",
       "      <th>std</th>\n",
       "      <td>3.674283e+05</td>\n",
       "      <td>0.926330</td>\n",
       "      <td>0.769100</td>\n",
       "      <td>918.225876</td>\n",
       "      <td>4.141963e+04</td>\n",
       "      <td>0.539522</td>\n",
       "      <td>0.081959</td>\n",
       "      <td>0.650612</td>\n",
       "      <td>1.173266</td>\n",
       "      <td>29.370950</td>\n",
       "    </tr>\n",
       "    <tr>\n",
       "      <th>min</th>\n",
       "      <td>7.800000e+04</td>\n",
       "      <td>1.000000</td>\n",
       "      <td>0.500000</td>\n",
       "      <td>370.000000</td>\n",
       "      <td>5.200000e+02</td>\n",
       "      <td>1.000000</td>\n",
       "      <td>0.000000</td>\n",
       "      <td>1.000000</td>\n",
       "      <td>3.000000</td>\n",
       "      <td>1900.000000</td>\n",
       "    </tr>\n",
       "    <tr>\n",
       "      <th>25%</th>\n",
       "      <td>3.220000e+05</td>\n",
       "      <td>3.000000</td>\n",
       "      <td>1.750000</td>\n",
       "      <td>1430.000000</td>\n",
       "      <td>5.042000e+03</td>\n",
       "      <td>1.000000</td>\n",
       "      <td>0.000000</td>\n",
       "      <td>3.000000</td>\n",
       "      <td>7.000000</td>\n",
       "      <td>1951.000000</td>\n",
       "    </tr>\n",
       "    <tr>\n",
       "      <th>50%</th>\n",
       "      <td>4.500000e+05</td>\n",
       "      <td>3.000000</td>\n",
       "      <td>2.250000</td>\n",
       "      <td>1910.000000</td>\n",
       "      <td>7.620000e+03</td>\n",
       "      <td>1.500000</td>\n",
       "      <td>0.000000</td>\n",
       "      <td>3.000000</td>\n",
       "      <td>7.000000</td>\n",
       "      <td>1975.000000</td>\n",
       "    </tr>\n",
       "    <tr>\n",
       "      <th>75%</th>\n",
       "      <td>6.450000e+05</td>\n",
       "      <td>4.000000</td>\n",
       "      <td>2.500000</td>\n",
       "      <td>2550.000000</td>\n",
       "      <td>1.068800e+04</td>\n",
       "      <td>2.000000</td>\n",
       "      <td>0.000000</td>\n",
       "      <td>4.000000</td>\n",
       "      <td>8.000000</td>\n",
       "      <td>1997.000000</td>\n",
       "    </tr>\n",
       "    <tr>\n",
       "      <th>max</th>\n",
       "      <td>7.700000e+06</td>\n",
       "      <td>33.000000</td>\n",
       "      <td>8.000000</td>\n",
       "      <td>13540.000000</td>\n",
       "      <td>1.651359e+06</td>\n",
       "      <td>3.500000</td>\n",
       "      <td>1.000000</td>\n",
       "      <td>5.000000</td>\n",
       "      <td>13.000000</td>\n",
       "      <td>2015.000000</td>\n",
       "    </tr>\n",
       "  </tbody>\n",
       "</table>\n",
       "</div>"
      ],
      "text/plain": [
       "              price      bedrooms     bathrooms   sqft_living      sqft_lot  \\\n",
       "count  2.158900e+04  21589.000000  21589.000000  21589.000000  2.158900e+04   \n",
       "mean   5.403083e+05      3.373246      2.115788   2080.415536  1.510390e+04   \n",
       "std    3.674283e+05      0.926330      0.769100    918.225876  4.141963e+04   \n",
       "min    7.800000e+04      1.000000      0.500000    370.000000  5.200000e+02   \n",
       "25%    3.220000e+05      3.000000      1.750000   1430.000000  5.042000e+03   \n",
       "50%    4.500000e+05      3.000000      2.250000   1910.000000  7.620000e+03   \n",
       "75%    6.450000e+05      4.000000      2.500000   2550.000000  1.068800e+04   \n",
       "max    7.700000e+06     33.000000      8.000000  13540.000000  1.651359e+06   \n",
       "\n",
       "             floors    waterfront     condition         grade      yr_built  \n",
       "count  21589.000000  21589.000000  21589.000000  21589.000000  21589.000000  \n",
       "mean       1.493816      0.006763      3.409931      7.657603   1970.988466  \n",
       "std        0.539522      0.081959      0.650612      1.173266     29.370950  \n",
       "min        1.000000      0.000000      1.000000      3.000000   1900.000000  \n",
       "25%        1.000000      0.000000      3.000000      7.000000   1951.000000  \n",
       "50%        1.500000      0.000000      3.000000      7.000000   1975.000000  \n",
       "75%        2.000000      0.000000      4.000000      8.000000   1997.000000  \n",
       "max        3.500000      1.000000      5.000000     13.000000   2015.000000  "
      ]
     },
     "execution_count": 19,
     "metadata": {},
     "output_type": "execute_result"
    }
   ],
   "source": [
    "data.describe()"
   ]
  },
  {
   "cell_type": "markdown",
   "metadata": {},
   "source": [
    "###### Comment:\n",
    "* The Bedrooms column has an outlier; The column has a minimum value of 1 and mean of 3.3, thus a maximum value of 33 is way off"
   ]
  },
  {
   "cell_type": "code",
   "execution_count": 8,
   "metadata": {},
   "outputs": [],
   "source": [
    "# Dropping the outlier row\n",
    "data = data[data.bedrooms != 33]"
   ]
  },
  {
   "cell_type": "code",
   "execution_count": 22,
   "metadata": {},
   "outputs": [
    {
     "data": {
      "text/html": [
       "<div>\n",
       "<style scoped>\n",
       "    .dataframe tbody tr th:only-of-type {\n",
       "        vertical-align: middle;\n",
       "    }\n",
       "\n",
       "    .dataframe tbody tr th {\n",
       "        vertical-align: top;\n",
       "    }\n",
       "\n",
       "    .dataframe thead th {\n",
       "        text-align: right;\n",
       "    }\n",
       "</style>\n",
       "<table border=\"1\" class=\"dataframe\">\n",
       "  <thead>\n",
       "    <tr style=\"text-align: right;\">\n",
       "      <th></th>\n",
       "      <th>price</th>\n",
       "      <th>bedrooms</th>\n",
       "      <th>bathrooms</th>\n",
       "      <th>sqft_living</th>\n",
       "      <th>sqft_lot</th>\n",
       "      <th>floors</th>\n",
       "      <th>waterfront</th>\n",
       "      <th>condition</th>\n",
       "      <th>grade</th>\n",
       "      <th>yr_built</th>\n",
       "    </tr>\n",
       "  </thead>\n",
       "  <tbody>\n",
       "    <tr>\n",
       "      <th>count</th>\n",
       "      <td>2.158800e+04</td>\n",
       "      <td>21588.000000</td>\n",
       "      <td>21588.000000</td>\n",
       "      <td>21588.000000</td>\n",
       "      <td>2.158800e+04</td>\n",
       "      <td>21588.000000</td>\n",
       "      <td>21588.000000</td>\n",
       "      <td>21588.000000</td>\n",
       "      <td>21588.000000</td>\n",
       "      <td>21588.000000</td>\n",
       "    </tr>\n",
       "    <tr>\n",
       "      <th>mean</th>\n",
       "      <td>5.403037e+05</td>\n",
       "      <td>3.371873</td>\n",
       "      <td>2.115805</td>\n",
       "      <td>2080.436863</td>\n",
       "      <td>1.510432e+04</td>\n",
       "      <td>1.493839</td>\n",
       "      <td>0.006763</td>\n",
       "      <td>3.409857</td>\n",
       "      <td>7.657634</td>\n",
       "      <td>1970.989578</td>\n",
       "    </tr>\n",
       "    <tr>\n",
       "      <th>std</th>\n",
       "      <td>3.674362e+05</td>\n",
       "      <td>0.904137</td>\n",
       "      <td>0.769114</td>\n",
       "      <td>918.241797</td>\n",
       "      <td>4.142054e+04</td>\n",
       "      <td>0.539524</td>\n",
       "      <td>0.081961</td>\n",
       "      <td>0.650537</td>\n",
       "      <td>1.173284</td>\n",
       "      <td>29.371176</td>\n",
       "    </tr>\n",
       "    <tr>\n",
       "      <th>min</th>\n",
       "      <td>7.800000e+04</td>\n",
       "      <td>1.000000</td>\n",
       "      <td>0.500000</td>\n",
       "      <td>370.000000</td>\n",
       "      <td>5.200000e+02</td>\n",
       "      <td>1.000000</td>\n",
       "      <td>0.000000</td>\n",
       "      <td>1.000000</td>\n",
       "      <td>3.000000</td>\n",
       "      <td>1900.000000</td>\n",
       "    </tr>\n",
       "    <tr>\n",
       "      <th>25%</th>\n",
       "      <td>3.220000e+05</td>\n",
       "      <td>3.000000</td>\n",
       "      <td>1.750000</td>\n",
       "      <td>1430.000000</td>\n",
       "      <td>5.041500e+03</td>\n",
       "      <td>1.000000</td>\n",
       "      <td>0.000000</td>\n",
       "      <td>3.000000</td>\n",
       "      <td>7.000000</td>\n",
       "      <td>1951.000000</td>\n",
       "    </tr>\n",
       "    <tr>\n",
       "      <th>50%</th>\n",
       "      <td>4.500000e+05</td>\n",
       "      <td>3.000000</td>\n",
       "      <td>2.250000</td>\n",
       "      <td>1910.000000</td>\n",
       "      <td>7.620000e+03</td>\n",
       "      <td>1.500000</td>\n",
       "      <td>0.000000</td>\n",
       "      <td>3.000000</td>\n",
       "      <td>7.000000</td>\n",
       "      <td>1975.000000</td>\n",
       "    </tr>\n",
       "    <tr>\n",
       "      <th>75%</th>\n",
       "      <td>6.450000e+05</td>\n",
       "      <td>4.000000</td>\n",
       "      <td>2.500000</td>\n",
       "      <td>2550.000000</td>\n",
       "      <td>1.068825e+04</td>\n",
       "      <td>2.000000</td>\n",
       "      <td>0.000000</td>\n",
       "      <td>4.000000</td>\n",
       "      <td>8.000000</td>\n",
       "      <td>1997.000000</td>\n",
       "    </tr>\n",
       "    <tr>\n",
       "      <th>max</th>\n",
       "      <td>7.700000e+06</td>\n",
       "      <td>11.000000</td>\n",
       "      <td>8.000000</td>\n",
       "      <td>13540.000000</td>\n",
       "      <td>1.651359e+06</td>\n",
       "      <td>3.500000</td>\n",
       "      <td>1.000000</td>\n",
       "      <td>5.000000</td>\n",
       "      <td>13.000000</td>\n",
       "      <td>2015.000000</td>\n",
       "    </tr>\n",
       "  </tbody>\n",
       "</table>\n",
       "</div>"
      ],
      "text/plain": [
       "              price      bedrooms     bathrooms   sqft_living      sqft_lot  \\\n",
       "count  2.158800e+04  21588.000000  21588.000000  21588.000000  2.158800e+04   \n",
       "mean   5.403037e+05      3.371873      2.115805   2080.436863  1.510432e+04   \n",
       "std    3.674362e+05      0.904137      0.769114    918.241797  4.142054e+04   \n",
       "min    7.800000e+04      1.000000      0.500000    370.000000  5.200000e+02   \n",
       "25%    3.220000e+05      3.000000      1.750000   1430.000000  5.041500e+03   \n",
       "50%    4.500000e+05      3.000000      2.250000   1910.000000  7.620000e+03   \n",
       "75%    6.450000e+05      4.000000      2.500000   2550.000000  1.068825e+04   \n",
       "max    7.700000e+06     11.000000      8.000000  13540.000000  1.651359e+06   \n",
       "\n",
       "             floors    waterfront     condition         grade      yr_built  \n",
       "count  21588.000000  21588.000000  21588.000000  21588.000000  21588.000000  \n",
       "mean       1.493839      0.006763      3.409857      7.657634   1970.989578  \n",
       "std        0.539524      0.081961      0.650537      1.173284     29.371176  \n",
       "min        1.000000      0.000000      1.000000      3.000000   1900.000000  \n",
       "25%        1.000000      0.000000      3.000000      7.000000   1951.000000  \n",
       "50%        1.500000      0.000000      3.000000      7.000000   1975.000000  \n",
       "75%        2.000000      0.000000      4.000000      8.000000   1997.000000  \n",
       "max        3.500000      1.000000      5.000000     13.000000   2015.000000  "
      ]
     },
     "execution_count": 22,
     "metadata": {},
     "output_type": "execute_result"
    }
   ],
   "source": [
    "data.describe()"
   ]
  },
  {
   "cell_type": "markdown",
   "metadata": {},
   "source": [
    "### Checking The Distribution of Data"
   ]
  },
  {
   "cell_type": "code",
   "execution_count": 24,
   "metadata": {},
   "outputs": [
    {
     "data": {
      "image/png": "[encoded data removed]",
      "text/plain": [
       "<Figure size 1296x1080 with 12 Axes>"
      ]
     },
     "metadata": {
      "needs_background": "light"
     },
     "output_type": "display_data"
    }
   ],
   "source": [
    "data.hist(figsize=(18,15), bins='auto');"
   ]
  },
  {
   "cell_type": "markdown",
   "metadata": {},
   "source": [
    "### Inspecting the Data Per column"
   ]
  },
  {
   "cell_type": "markdown",
   "metadata": {},
   "source": [
    "#### Bedrooms"
   ]
  },
  {
   "cell_type": "code",
   "execution_count": 27,
   "metadata": {},
   "outputs": [
    {
     "data": {
      "text/plain": [
       "3     0.454836\n",
       "4     0.318742\n",
       "2     0.127802\n",
       "5     0.074115\n",
       "6     0.012600\n",
       "1     0.009079\n",
       "7     0.001760\n",
       "8     0.000602\n",
       "9     0.000278\n",
       "10    0.000139\n",
       "11    0.000046\n",
       "Name: bedrooms, dtype: float64"
      ]
     },
     "execution_count": 27,
     "metadata": {},
     "output_type": "execute_result"
    }
   ],
   "source": [
    "data['bedrooms'].value_counts(normalize=True)"
   ]
  },
  {
   "cell_type": "markdown",
   "metadata": {},
   "source": [
    "###### Comment:\n",
    "* Most houses have 2 to 4 bedrooms.\n",
    "* 1,5,6,7,8,9,10 and 11 bedroom houses contribute less than 1% each of the number of house in the data.\n",
    "* There is only one house with 11 bedrooms which needs further investigation to determine whether its an error and whether to treat it as an outlier.\n",
    "* This column should be treated as continuous due to the wide range of values."
   ]
  },
  {
   "cell_type": "code",
   "execution_count": 11,
   "metadata": {},
   "outputs": [
    {
     "data": {
      "text/plain": [
       "Text(0.5, 1.0, 'Distribution of Price and No. of Bedrooms')"
      ]
     },
     "execution_count": 11,
     "metadata": {},
     "output_type": "execute_result"
    },
    {
     "data": {
      "image/png": "[encoded data removed]",
      "text/plain": [
       "<Figure size 432x288 with 1 Axes>"
      ]
     },
     "metadata": {
      "needs_background": "light"
     },
     "output_type": "display_data"
    }
   ],
   "source": [
    "plt.scatter(data['bedrooms'],data['price'])\n",
    "plt.xlabel('Number of Bedrooms')\n",
    "plt.ylabel('Price')\n",
    "plt.title('Distribution of Price and No. of Bedrooms')"
   ]
  },
  {
   "cell_type": "markdown",
   "metadata": {},
   "source": [
    "#### Bathrooms"
   ]
  },
  {
   "cell_type": "code",
   "execution_count": 29,
   "metadata": {},
   "outputs": [
    {
     "data": {
      "text/plain": [
       "2.50    5373\n",
       "1.00    3851\n",
       "1.75    3045\n",
       "2.25    2046\n",
       "2.00    1929\n",
       "1.50    1445\n",
       "2.75    1185\n",
       "3.00     753\n",
       "3.50     731\n",
       "3.25     589\n",
       "3.75     155\n",
       "4.00     136\n",
       "4.50     100\n",
       "4.25      79\n",
       "0.75      71\n",
       "4.75      23\n",
       "5.00      21\n",
       "5.25      13\n",
       "5.50      10\n",
       "1.25       9\n",
       "6.00       6\n",
       "5.75       4\n",
       "0.50       4\n",
       "8.00       2\n",
       "6.25       2\n",
       "6.75       2\n",
       "6.50       2\n",
       "7.50       1\n",
       "7.75       1\n",
       "Name: bathrooms, dtype: int64"
      ]
     },
     "execution_count": 29,
     "metadata": {},
     "output_type": "execute_result"
    }
   ],
   "source": [
    "data['bathrooms'].value_counts()"
   ]
  },
  {
   "cell_type": "code",
   "execution_count": 12,
   "metadata": {},
   "outputs": [
    {
     "data": {
      "text/plain": [
       "Text(0.5, 1.0, 'Distribution of Price and No. of Bathrooms')"
      ]
     },
     "execution_count": 12,
     "metadata": {},
     "output_type": "execute_result"
    },
    {
     "data": {
      "image/png": "[encoded data removed]",
      "text/plain": [
       "<Figure size 432x288 with 1 Axes>"
      ]
     },
     "metadata": {
      "needs_background": "light"
     },
     "output_type": "display_data"
    }
   ],
   "source": [
    "plt.scatter(data['bathrooms'],data['price'])\n",
    "plt.xlabel('Number of Bathrooms')\n",
    "plt.ylabel('Price')\n",
    "plt.title('Distribution of Price and No. of Bathrooms')"
   ]
  },
  {
   "cell_type": "markdown",
   "metadata": {},
   "source": [
    "##### Comment:\n",
    "* Most houses in the Data set have between 1 and 2.75 bathrooms.\n",
    "* This column should be treated as a continuous variable."
   ]
  },
  {
   "cell_type": "markdown",
   "metadata": {},
   "source": [
    "#### Floors"
   ]
  },
  {
   "cell_type": "code",
   "execution_count": 30,
   "metadata": {},
   "outputs": [
    {
     "data": {
      "text/plain": [
       "1.0    10672\n",
       "2.0     8229\n",
       "1.5     1910\n",
       "3.0      609\n",
       "2.5      161\n",
       "3.5        7\n",
       "Name: floors, dtype: int64"
      ]
     },
     "execution_count": 30,
     "metadata": {},
     "output_type": "execute_result"
    }
   ],
   "source": [
    "data['floors'].value_counts()"
   ]
  },
  {
   "cell_type": "code",
   "execution_count": 13,
   "metadata": {},
   "outputs": [
    {
     "data": {
      "text/plain": [
       "Text(0.5, 1.0, 'Distribution of Price and No. of Floors')"
      ]
     },
     "execution_count": 13,
     "metadata": {},
     "output_type": "execute_result"
    },
    {
     "data": {
      "image/png": "[encoded data removed]",
      "text/plain": [
       "<Figure size 432x288 with 1 Axes>"
      ]
     },
     "metadata": {
      "needs_background": "light"
     },
     "output_type": "display_data"
    }
   ],
   "source": [
    "plt.scatter(data['floors'],data['price'])\n",
    "plt.xlabel('Number of Floors')\n",
    "plt.ylabel('Price')\n",
    "plt.title('Distribution of Price and No. of Floors')"
   ]
  },
  {
   "cell_type": "markdown",
   "metadata": {},
   "source": [
    "#### Comment:\n",
    "* Most houses have between 1 and 2 floors.\n",
    "* Above 2 Floors the theirs no increase in the house prices.\n",
    "* This column should be treated as a categorical column due to the limited range of values."
   ]
  },
  {
   "cell_type": "markdown",
   "metadata": {},
   "source": [
    "#### Condition"
   ]
  },
  {
   "cell_type": "code",
   "execution_count": 31,
   "metadata": {},
   "outputs": [
    {
     "data": {
      "text/plain": [
       "3    14013\n",
       "4     5676\n",
       "5     1700\n",
       "2      170\n",
       "1       29\n",
       "Name: condition, dtype: int64"
      ]
     },
     "execution_count": 31,
     "metadata": {},
     "output_type": "execute_result"
    }
   ],
   "source": [
    "data['condition'].value_counts()"
   ]
  },
  {
   "cell_type": "code",
   "execution_count": 14,
   "metadata": {},
   "outputs": [
    {
     "data": {
      "text/plain": [
       "Text(0.5, 1.0, 'Distribution of Price and Condition')"
      ]
     },
     "execution_count": 14,
     "metadata": {},
     "output_type": "execute_result"
    },
    {
     "data": {
      "image/png": "[encoded data removed]",
      "text/plain": [
       "<Figure size 432x288 with 1 Axes>"
      ]
     },
     "metadata": {
      "needs_background": "light"
     },
     "output_type": "display_data"
    }
   ],
   "source": [
    "plt.scatter(data['condition'],data['price'])\n",
    "plt.xlabel('Condition Rating')\n",
    "plt.ylabel('Price')\n",
    "plt.title('Distribution of Price and Condition')"
   ]
  },
  {
   "cell_type": "markdown",
   "metadata": {},
   "source": [
    "#### Comment: \n",
    "* Most houses are given a condition value of between 3 and 5\n",
    "* Above the rating of 4 the price of the house units does not increase.\n",
    "* This column should be treated a categorical column\n"
   ]
  },
  {
   "cell_type": "markdown",
   "metadata": {},
   "source": [
    "#### Rating"
   ]
  },
  {
   "cell_type": "code",
   "execution_count": 32,
   "metadata": {},
   "outputs": [
    {
     "data": {
      "text/plain": [
       "7     8973\n",
       "8     6061\n",
       "9     2611\n",
       "6     2038\n",
       "10    1134\n",
       "11     399\n",
       "5      242\n",
       "12      89\n",
       "4       27\n",
       "13      13\n",
       "3        1\n",
       "Name: grade, dtype: int64"
      ]
     },
     "execution_count": 32,
     "metadata": {},
     "output_type": "execute_result"
    }
   ],
   "source": [
    "data['grade'].value_counts()"
   ]
  },
  {
   "cell_type": "code",
   "execution_count": 15,
   "metadata": {},
   "outputs": [
    {
     "data": {
      "text/plain": [
       "Text(0.5, 1.0, 'Distribution of Price and Rating')"
      ]
     },
     "execution_count": 15,
     "metadata": {},
     "output_type": "execute_result"
    },
    {
     "data": {
      "image/png": "[encoded data removed]",
      "text/plain": [
       "<Figure size 432x288 with 1 Axes>"
      ]
     },
     "metadata": {
      "needs_background": "light"
     },
     "output_type": "display_data"
    }
   ],
   "source": [
    "plt.scatter(data['grade'],data['price'])\n",
    "plt.xlabel('Grade as per County')\n",
    "plt.ylabel('Price')\n",
    "plt.title('Distribution of Price and Rating')"
   ]
  },
  {
   "cell_type": "markdown",
   "metadata": {},
   "source": [
    "#### Comment:\n",
    "* Most houses are graded between 6 and 10.\n",
    "* The higher the grade given the higher the price a unit fetches.\n",
    "* Due to the wide range of rating we will treat this variable as continuous."
   ]
  },
  {
   "cell_type": "markdown",
   "metadata": {},
   "source": [
    "#### Year Built"
   ]
  },
  {
   "cell_type": "code",
   "execution_count": 33,
   "metadata": {},
   "outputs": [
    {
     "data": {
      "text/plain": [
       "2014    555\n",
       "2006    453\n",
       "2005    450\n",
       "2004    433\n",
       "2003    420\n",
       "       ... \n",
       "1933     30\n",
       "1901     29\n",
       "1902     27\n",
       "1935     24\n",
       "1934     21\n",
       "Name: yr_built, Length: 116, dtype: int64"
      ]
     },
     "execution_count": 33,
     "metadata": {},
     "output_type": "execute_result"
    }
   ],
   "source": [
    "data['yr_built'].value_counts()"
   ]
  },
  {
   "cell_type": "code",
   "execution_count": 16,
   "metadata": {},
   "outputs": [
    {
     "data": {
      "text/plain": [
       "Text(0.5, 1.0, 'Distribution of Price and Year Built')"
      ]
     },
     "execution_count": 16,
     "metadata": {},
     "output_type": "execute_result"
    },
    {
     "data": {
      "image/png": "[encoded data removed]",
      "text/plain": [
       "<Figure size 432x288 with 1 Axes>"
      ]
     },
     "metadata": {
      "needs_background": "light"
     },
     "output_type": "display_data"
    }
   ],
   "source": [
    "plt.scatter(data['yr_built'],data['price'])\n",
    "plt.xlabel('Year Built')\n",
    "plt.ylabel('Price')\n",
    "plt.title('Distribution of Price and Year Built')"
   ]
  },
  {
   "cell_type": "markdown",
   "metadata": {},
   "source": [
    "##### Comment:\n",
    "* Most house were built in 2014\n",
    "* This column should be treated as continuous variable due to the wide range of values"
   ]
  },
  {
   "cell_type": "code",
   "execution_count": 35,
   "metadata": {},
   "outputs": [],
   "source": [
    "# Data continuous and categorical variables\n",
    "categorical = [ 'floors', 'waterfront', 'condition']\n",
    "continuous = ['grade', 'bathrooms', 'bedrooms','price', 'sqft_living', 'sqft_lot','yr_built']"
   ]
  },
  {
   "cell_type": "code",
   "execution_count": 18,
   "metadata": {},
   "outputs": [
    {
     "data": {
      "text/plain": [
       "Text(0.5, 1.0, 'Distribution of Price and Footage')"
      ]
     },
     "execution_count": 18,
     "metadata": {},
     "output_type": "execute_result"
    },
    {
     "data": {
      "image/png": "[encoded data removed]",
      "text/plain": [
       "<Figure size 432x288 with 1 Axes>"
      ]
     },
     "metadata": {
      "needs_background": "light"
     },
     "output_type": "display_data"
    }
   ],
   "source": [
    "plt.scatter(data['sqft_living'], data['price'])\n",
    "plt.xlabel('Footage')\n",
    "plt.ylabel('Price')\n",
    "plt.title('Distribution of Price and Footage')"
   ]
  },
  {
   "cell_type": "markdown",
   "metadata": {},
   "source": [
    "### Dealing With Data Types"
   ]
  },
  {
   "cell_type": "code",
   "execution_count": 36,
   "metadata": {},
   "outputs": [],
   "source": [
    "# Converting all categorical columns in the data set to object\n",
    "for col in categorical:\n",
    "    data[col] = data[col].astype('str')\n",
    "    "
   ]
  },
  {
   "cell_type": "code",
   "execution_count": 37,
   "metadata": {},
   "outputs": [
    {
     "name": "stdout",
     "output_type": "stream",
     "text": [
      "<class 'pandas.core.frame.DataFrame'>\n",
      "Int64Index: 21588 entries, 0 to 21596\n",
      "Data columns (total 10 columns):\n",
      " #   Column       Non-Null Count  Dtype  \n",
      "---  ------       --------------  -----  \n",
      " 0   price        21588 non-null  float64\n",
      " 1   bedrooms     21588 non-null  int64  \n",
      " 2   bathrooms    21588 non-null  float64\n",
      " 3   sqft_living  21588 non-null  int64  \n",
      " 4   sqft_lot     21588 non-null  int64  \n",
      " 5   floors       21588 non-null  object \n",
      " 6   waterfront   21588 non-null  object \n",
      " 7   condition    21588 non-null  object \n",
      " 8   grade        21588 non-null  int64  \n",
      " 9   yr_built     21588 non-null  int64  \n",
      "dtypes: float64(2), int64(5), object(3)\n",
      "memory usage: 1.8+ MB\n"
     ]
    }
   ],
   "source": [
    "# Previewing the data types\n",
    "data.info()"
   ]
  },
  {
   "cell_type": "code",
   "execution_count": 38,
   "metadata": {},
   "outputs": [
    {
     "data": {
      "text/html": [
       "<div>\n",
       "<style scoped>\n",
       "    .dataframe tbody tr th:only-of-type {\n",
       "        vertical-align: middle;\n",
       "    }\n",
       "\n",
       "    .dataframe tbody tr th {\n",
       "        vertical-align: top;\n",
       "    }\n",
       "\n",
       "    .dataframe thead th {\n",
       "        text-align: right;\n",
       "    }\n",
       "</style>\n",
       "<table border=\"1\" class=\"dataframe\">\n",
       "  <thead>\n",
       "    <tr style=\"text-align: right;\">\n",
       "      <th></th>\n",
       "      <th>price</th>\n",
       "      <th>bedrooms</th>\n",
       "      <th>bathrooms</th>\n",
       "      <th>sqft_living</th>\n",
       "      <th>sqft_lot</th>\n",
       "      <th>floors</th>\n",
       "      <th>waterfront</th>\n",
       "      <th>condition</th>\n",
       "      <th>grade</th>\n",
       "      <th>yr_built</th>\n",
       "    </tr>\n",
       "  </thead>\n",
       "  <tbody>\n",
       "    <tr>\n",
       "      <th>0</th>\n",
       "      <td>221900.0</td>\n",
       "      <td>3</td>\n",
       "      <td>1.00</td>\n",
       "      <td>1180</td>\n",
       "      <td>5650</td>\n",
       "      <td>1.0</td>\n",
       "      <td>0.0</td>\n",
       "      <td>3</td>\n",
       "      <td>7</td>\n",
       "      <td>1955</td>\n",
       "    </tr>\n",
       "    <tr>\n",
       "      <th>1</th>\n",
       "      <td>538000.0</td>\n",
       "      <td>3</td>\n",
       "      <td>2.25</td>\n",
       "      <td>2570</td>\n",
       "      <td>7242</td>\n",
       "      <td>2.0</td>\n",
       "      <td>0.0</td>\n",
       "      <td>3</td>\n",
       "      <td>7</td>\n",
       "      <td>1951</td>\n",
       "    </tr>\n",
       "    <tr>\n",
       "      <th>2</th>\n",
       "      <td>180000.0</td>\n",
       "      <td>2</td>\n",
       "      <td>1.00</td>\n",
       "      <td>770</td>\n",
       "      <td>10000</td>\n",
       "      <td>1.0</td>\n",
       "      <td>0.0</td>\n",
       "      <td>3</td>\n",
       "      <td>6</td>\n",
       "      <td>1933</td>\n",
       "    </tr>\n",
       "    <tr>\n",
       "      <th>3</th>\n",
       "      <td>604000.0</td>\n",
       "      <td>4</td>\n",
       "      <td>3.00</td>\n",
       "      <td>1960</td>\n",
       "      <td>5000</td>\n",
       "      <td>1.0</td>\n",
       "      <td>0.0</td>\n",
       "      <td>5</td>\n",
       "      <td>7</td>\n",
       "      <td>1965</td>\n",
       "    </tr>\n",
       "    <tr>\n",
       "      <th>4</th>\n",
       "      <td>510000.0</td>\n",
       "      <td>3</td>\n",
       "      <td>2.00</td>\n",
       "      <td>1680</td>\n",
       "      <td>8080</td>\n",
       "      <td>1.0</td>\n",
       "      <td>0.0</td>\n",
       "      <td>3</td>\n",
       "      <td>8</td>\n",
       "      <td>1987</td>\n",
       "    </tr>\n",
       "  </tbody>\n",
       "</table>\n",
       "</div>"
      ],
      "text/plain": [
       "      price  bedrooms  bathrooms  sqft_living  sqft_lot floors waterfront  \\\n",
       "0  221900.0         3       1.00         1180      5650    1.0        0.0   \n",
       "1  538000.0         3       2.25         2570      7242    2.0        0.0   \n",
       "2  180000.0         2       1.00          770     10000    1.0        0.0   \n",
       "3  604000.0         4       3.00         1960      5000    1.0        0.0   \n",
       "4  510000.0         3       2.00         1680      8080    1.0        0.0   \n",
       "\n",
       "  condition  grade  yr_built  \n",
       "0         3      7      1955  \n",
       "1         3      7      1951  \n",
       "2         3      6      1933  \n",
       "3         5      7      1965  \n",
       "4         3      8      1987  "
      ]
     },
     "execution_count": 38,
     "metadata": {},
     "output_type": "execute_result"
    }
   ],
   "source": [
    "data.head()"
   ]
  },
  {
   "cell_type": "code",
   "execution_count": 39,
   "metadata": {},
   "outputs": [
    {
     "data": {
      "text/html": [
       "<div>\n",
       "<style scoped>\n",
       "    .dataframe tbody tr th:only-of-type {\n",
       "        vertical-align: middle;\n",
       "    }\n",
       "\n",
       "    .dataframe tbody tr th {\n",
       "        vertical-align: top;\n",
       "    }\n",
       "\n",
       "    .dataframe thead th {\n",
       "        text-align: right;\n",
       "    }\n",
       "</style>\n",
       "<table border=\"1\" class=\"dataframe\">\n",
       "  <thead>\n",
       "    <tr style=\"text-align: right;\">\n",
       "      <th></th>\n",
       "      <th>price</th>\n",
       "      <th>bedrooms</th>\n",
       "      <th>bathrooms</th>\n",
       "      <th>sqft_living</th>\n",
       "      <th>sqft_lot</th>\n",
       "      <th>grade</th>\n",
       "      <th>yr_built</th>\n",
       "    </tr>\n",
       "  </thead>\n",
       "  <tbody>\n",
       "    <tr>\n",
       "      <th>count</th>\n",
       "      <td>2.158800e+04</td>\n",
       "      <td>21588.000000</td>\n",
       "      <td>21588.000000</td>\n",
       "      <td>21588.000000</td>\n",
       "      <td>2.158800e+04</td>\n",
       "      <td>21588.000000</td>\n",
       "      <td>21588.000000</td>\n",
       "    </tr>\n",
       "    <tr>\n",
       "      <th>mean</th>\n",
       "      <td>5.403037e+05</td>\n",
       "      <td>3.371873</td>\n",
       "      <td>2.115805</td>\n",
       "      <td>2080.436863</td>\n",
       "      <td>1.510432e+04</td>\n",
       "      <td>7.657634</td>\n",
       "      <td>1970.989578</td>\n",
       "    </tr>\n",
       "    <tr>\n",
       "      <th>std</th>\n",
       "      <td>3.674362e+05</td>\n",
       "      <td>0.904137</td>\n",
       "      <td>0.769114</td>\n",
       "      <td>918.241797</td>\n",
       "      <td>4.142054e+04</td>\n",
       "      <td>1.173284</td>\n",
       "      <td>29.371176</td>\n",
       "    </tr>\n",
       "    <tr>\n",
       "      <th>min</th>\n",
       "      <td>7.800000e+04</td>\n",
       "      <td>1.000000</td>\n",
       "      <td>0.500000</td>\n",
       "      <td>370.000000</td>\n",
       "      <td>5.200000e+02</td>\n",
       "      <td>3.000000</td>\n",
       "      <td>1900.000000</td>\n",
       "    </tr>\n",
       "    <tr>\n",
       "      <th>25%</th>\n",
       "      <td>3.220000e+05</td>\n",
       "      <td>3.000000</td>\n",
       "      <td>1.750000</td>\n",
       "      <td>1430.000000</td>\n",
       "      <td>5.041500e+03</td>\n",
       "      <td>7.000000</td>\n",
       "      <td>1951.000000</td>\n",
       "    </tr>\n",
       "    <tr>\n",
       "      <th>50%</th>\n",
       "      <td>4.500000e+05</td>\n",
       "      <td>3.000000</td>\n",
       "      <td>2.250000</td>\n",
       "      <td>1910.000000</td>\n",
       "      <td>7.620000e+03</td>\n",
       "      <td>7.000000</td>\n",
       "      <td>1975.000000</td>\n",
       "    </tr>\n",
       "    <tr>\n",
       "      <th>75%</th>\n",
       "      <td>6.450000e+05</td>\n",
       "      <td>4.000000</td>\n",
       "      <td>2.500000</td>\n",
       "      <td>2550.000000</td>\n",
       "      <td>1.068825e+04</td>\n",
       "      <td>8.000000</td>\n",
       "      <td>1997.000000</td>\n",
       "    </tr>\n",
       "    <tr>\n",
       "      <th>max</th>\n",
       "      <td>7.700000e+06</td>\n",
       "      <td>11.000000</td>\n",
       "      <td>8.000000</td>\n",
       "      <td>13540.000000</td>\n",
       "      <td>1.651359e+06</td>\n",
       "      <td>13.000000</td>\n",
       "      <td>2015.000000</td>\n",
       "    </tr>\n",
       "  </tbody>\n",
       "</table>\n",
       "</div>"
      ],
      "text/plain": [
       "              price      bedrooms     bathrooms   sqft_living      sqft_lot  \\\n",
       "count  2.158800e+04  21588.000000  21588.000000  21588.000000  2.158800e+04   \n",
       "mean   5.403037e+05      3.371873      2.115805   2080.436863  1.510432e+04   \n",
       "std    3.674362e+05      0.904137      0.769114    918.241797  4.142054e+04   \n",
       "min    7.800000e+04      1.000000      0.500000    370.000000  5.200000e+02   \n",
       "25%    3.220000e+05      3.000000      1.750000   1430.000000  5.041500e+03   \n",
       "50%    4.500000e+05      3.000000      2.250000   1910.000000  7.620000e+03   \n",
       "75%    6.450000e+05      4.000000      2.500000   2550.000000  1.068825e+04   \n",
       "max    7.700000e+06     11.000000      8.000000  13540.000000  1.651359e+06   \n",
       "\n",
       "              grade      yr_built  \n",
       "count  21588.000000  21588.000000  \n",
       "mean       7.657634   1970.989578  \n",
       "std        1.173284     29.371176  \n",
       "min        3.000000   1900.000000  \n",
       "25%        7.000000   1951.000000  \n",
       "50%        7.000000   1975.000000  \n",
       "75%        8.000000   1997.000000  \n",
       "max       13.000000   2015.000000  "
      ]
     },
     "execution_count": 39,
     "metadata": {},
     "output_type": "execute_result"
    }
   ],
   "source": [
    "data.describe()"
   ]
  },
  {
   "cell_type": "markdown",
   "metadata": {},
   "source": [
    "* The mean price is 540303.7\n",
    "* The mean of the footage housing living space is 2080.43\n",
    "* The mean footage of the lot is 15104.3"
   ]
  },
  {
   "cell_type": "markdown",
   "metadata": {},
   "source": [
    "### Checking For Linearity"
   ]
  },
  {
   "cell_type": "code",
   "execution_count": 41,
   "metadata": {},
   "outputs": [
    {
     "data": {
      "image/png": "[encoded data removed]",
      "text/plain": [
       "<Figure size 1296x1080 with 49 Axes>"
      ]
     },
     "metadata": {
      "needs_background": "light"
     },
     "output_type": "display_data"
    }
   ],
   "source": [
    "pd.plotting.scatter_matrix(data, figsize=[18,15]);"
   ]
  },
  {
   "cell_type": "code",
   "execution_count": 42,
   "metadata": {},
   "outputs": [
    {
     "data": {
      "text/html": [
       "<div>\n",
       "<style scoped>\n",
       "    .dataframe tbody tr th:only-of-type {\n",
       "        vertical-align: middle;\n",
       "    }\n",
       "\n",
       "    .dataframe tbody tr th {\n",
       "        vertical-align: top;\n",
       "    }\n",
       "\n",
       "    .dataframe thead th {\n",
       "        text-align: right;\n",
       "    }\n",
       "</style>\n",
       "<table border=\"1\" class=\"dataframe\">\n",
       "  <thead>\n",
       "    <tr style=\"text-align: right;\">\n",
       "      <th></th>\n",
       "      <th>price</th>\n",
       "      <th>bedrooms</th>\n",
       "      <th>bathrooms</th>\n",
       "      <th>sqft_living</th>\n",
       "      <th>sqft_lot</th>\n",
       "      <th>grade</th>\n",
       "      <th>yr_built</th>\n",
       "    </tr>\n",
       "  </thead>\n",
       "  <tbody>\n",
       "    <tr>\n",
       "      <th>price</th>\n",
       "      <td>1.000000</td>\n",
       "      <td>0.316014</td>\n",
       "      <td>0.525946</td>\n",
       "      <td>0.701952</td>\n",
       "      <td>0.089871</td>\n",
       "      <td>0.668091</td>\n",
       "      <td>0.054029</td>\n",
       "    </tr>\n",
       "    <tr>\n",
       "      <th>bedrooms</th>\n",
       "      <td>0.316014</td>\n",
       "      <td>1.000000</td>\n",
       "      <td>0.527958</td>\n",
       "      <td>0.593179</td>\n",
       "      <td>0.033584</td>\n",
       "      <td>0.366403</td>\n",
       "      <td>0.160947</td>\n",
       "    </tr>\n",
       "    <tr>\n",
       "      <th>bathrooms</th>\n",
       "      <td>0.525946</td>\n",
       "      <td>0.527958</td>\n",
       "      <td>1.000000</td>\n",
       "      <td>0.755825</td>\n",
       "      <td>0.088389</td>\n",
       "      <td>0.665888</td>\n",
       "      <td>0.507233</td>\n",
       "    </tr>\n",
       "    <tr>\n",
       "      <th>sqft_living</th>\n",
       "      <td>0.701952</td>\n",
       "      <td>0.593179</td>\n",
       "      <td>0.755825</td>\n",
       "      <td>1.000000</td>\n",
       "      <td>0.173423</td>\n",
       "      <td>0.763027</td>\n",
       "      <td>0.318450</td>\n",
       "    </tr>\n",
       "    <tr>\n",
       "      <th>sqft_lot</th>\n",
       "      <td>0.089871</td>\n",
       "      <td>0.033584</td>\n",
       "      <td>0.088389</td>\n",
       "      <td>0.173423</td>\n",
       "      <td>1.000000</td>\n",
       "      <td>0.114824</td>\n",
       "      <td>0.053086</td>\n",
       "    </tr>\n",
       "    <tr>\n",
       "      <th>grade</th>\n",
       "      <td>0.668091</td>\n",
       "      <td>0.366403</td>\n",
       "      <td>0.665888</td>\n",
       "      <td>0.763027</td>\n",
       "      <td>0.114824</td>\n",
       "      <td>1.000000</td>\n",
       "      <td>0.447743</td>\n",
       "    </tr>\n",
       "    <tr>\n",
       "      <th>yr_built</th>\n",
       "      <td>0.054029</td>\n",
       "      <td>0.160947</td>\n",
       "      <td>0.507233</td>\n",
       "      <td>0.318450</td>\n",
       "      <td>0.053086</td>\n",
       "      <td>0.447743</td>\n",
       "      <td>1.000000</td>\n",
       "    </tr>\n",
       "  </tbody>\n",
       "</table>\n",
       "</div>"
      ],
      "text/plain": [
       "                price  bedrooms  bathrooms  sqft_living  sqft_lot     grade  \\\n",
       "price        1.000000  0.316014   0.525946     0.701952  0.089871  0.668091   \n",
       "bedrooms     0.316014  1.000000   0.527958     0.593179  0.033584  0.366403   \n",
       "bathrooms    0.525946  0.527958   1.000000     0.755825  0.088389  0.665888   \n",
       "sqft_living  0.701952  0.593179   0.755825     1.000000  0.173423  0.763027   \n",
       "sqft_lot     0.089871  0.033584   0.088389     0.173423  1.000000  0.114824   \n",
       "grade        0.668091  0.366403   0.665888     0.763027  0.114824  1.000000   \n",
       "yr_built     0.054029  0.160947   0.507233     0.318450  0.053086  0.447743   \n",
       "\n",
       "             yr_built  \n",
       "price        0.054029  \n",
       "bedrooms     0.160947  \n",
       "bathrooms    0.507233  \n",
       "sqft_living  0.318450  \n",
       "sqft_lot     0.053086  \n",
       "grade        0.447743  \n",
       "yr_built     1.000000  "
      ]
     },
     "execution_count": 42,
     "metadata": {},
     "output_type": "execute_result"
    }
   ],
   "source": [
    "# Correlation between the variables\n",
    "data.corr()"
   ]
  },
  {
   "cell_type": "markdown",
   "metadata": {},
   "source": [
    "#### Comment:\n",
    "* Price has high positive correlation with sqft_living (footage of living space).\n",
    "* A moderate positive correlation also exist between price, bathrooms and the grade."
   ]
  },
  {
   "cell_type": "markdown",
   "metadata": {},
   "source": [
    "### One-Hot Encoding Categorical Columns"
   ]
  },
  {
   "cell_type": "code",
   "execution_count": 44,
   "metadata": {},
   "outputs": [
    {
     "data": {
      "text/plain": [
       "['floors', 'waterfront', 'condition']"
      ]
     },
     "execution_count": 44,
     "metadata": {},
     "output_type": "execute_result"
    }
   ],
   "source": [
    "categorical"
   ]
  },
  {
   "cell_type": "code",
   "execution_count": 45,
   "metadata": {},
   "outputs": [],
   "source": [
    "# Getting dummies for categorical data\n",
    "floors_dummies = pd.get_dummies(data['floors'], prefix='flr', drop_first=True)\n",
    "waterfront_dummies = pd.get_dummies(data['waterfront'], prefix='wf', drop_first=True)\n",
    "condition_dummies = pd.get_dummies(data['condition'], prefix='cdn', drop_first=True)"
   ]
  },
  {
   "cell_type": "code",
   "execution_count": 46,
   "metadata": {},
   "outputs": [],
   "source": [
    "# Removing the original data from the dataset and adding the dummy columns\n",
    "data = data.drop(['floors','waterfront','condition'], axis=1)"
   ]
  },
  {
   "cell_type": "code",
   "execution_count": 47,
   "metadata": {},
   "outputs": [
    {
     "data": {
      "text/html": [
       "<div>\n",
       "<style scoped>\n",
       "    .dataframe tbody tr th:only-of-type {\n",
       "        vertical-align: middle;\n",
       "    }\n",
       "\n",
       "    .dataframe tbody tr th {\n",
       "        vertical-align: top;\n",
       "    }\n",
       "\n",
       "    .dataframe thead th {\n",
       "        text-align: right;\n",
       "    }\n",
       "</style>\n",
       "<table border=\"1\" class=\"dataframe\">\n",
       "  <thead>\n",
       "    <tr style=\"text-align: right;\">\n",
       "      <th></th>\n",
       "      <th>price</th>\n",
       "      <th>bedrooms</th>\n",
       "      <th>bathrooms</th>\n",
       "      <th>sqft_living</th>\n",
       "      <th>sqft_lot</th>\n",
       "      <th>grade</th>\n",
       "      <th>yr_built</th>\n",
       "      <th>flr_1.5</th>\n",
       "      <th>flr_2.0</th>\n",
       "      <th>flr_2.5</th>\n",
       "      <th>flr_3.0</th>\n",
       "      <th>flr_3.5</th>\n",
       "      <th>wf_1.0</th>\n",
       "      <th>cdn_2</th>\n",
       "      <th>cdn_3</th>\n",
       "      <th>cdn_4</th>\n",
       "      <th>cdn_5</th>\n",
       "    </tr>\n",
       "  </thead>\n",
       "  <tbody>\n",
       "    <tr>\n",
       "      <th>0</th>\n",
       "      <td>221900.0</td>\n",
       "      <td>3</td>\n",
       "      <td>1.00</td>\n",
       "      <td>1180</td>\n",
       "      <td>5650</td>\n",
       "      <td>7</td>\n",
       "      <td>1955</td>\n",
       "      <td>0</td>\n",
       "      <td>0</td>\n",
       "      <td>0</td>\n",
       "      <td>0</td>\n",
       "      <td>0</td>\n",
       "      <td>0</td>\n",
       "      <td>0</td>\n",
       "      <td>1</td>\n",
       "      <td>0</td>\n",
       "      <td>0</td>\n",
       "    </tr>\n",
       "    <tr>\n",
       "      <th>1</th>\n",
       "      <td>538000.0</td>\n",
       "      <td>3</td>\n",
       "      <td>2.25</td>\n",
       "      <td>2570</td>\n",
       "      <td>7242</td>\n",
       "      <td>7</td>\n",
       "      <td>1951</td>\n",
       "      <td>0</td>\n",
       "      <td>1</td>\n",
       "      <td>0</td>\n",
       "      <td>0</td>\n",
       "      <td>0</td>\n",
       "      <td>0</td>\n",
       "      <td>0</td>\n",
       "      <td>1</td>\n",
       "      <td>0</td>\n",
       "      <td>0</td>\n",
       "    </tr>\n",
       "    <tr>\n",
       "      <th>2</th>\n",
       "      <td>180000.0</td>\n",
       "      <td>2</td>\n",
       "      <td>1.00</td>\n",
       "      <td>770</td>\n",
       "      <td>10000</td>\n",
       "      <td>6</td>\n",
       "      <td>1933</td>\n",
       "      <td>0</td>\n",
       "      <td>0</td>\n",
       "      <td>0</td>\n",
       "      <td>0</td>\n",
       "      <td>0</td>\n",
       "      <td>0</td>\n",
       "      <td>0</td>\n",
       "      <td>1</td>\n",
       "      <td>0</td>\n",
       "      <td>0</td>\n",
       "    </tr>\n",
       "    <tr>\n",
       "      <th>3</th>\n",
       "      <td>604000.0</td>\n",
       "      <td>4</td>\n",
       "      <td>3.00</td>\n",
       "      <td>1960</td>\n",
       "      <td>5000</td>\n",
       "      <td>7</td>\n",
       "      <td>1965</td>\n",
       "      <td>0</td>\n",
       "      <td>0</td>\n",
       "      <td>0</td>\n",
       "      <td>0</td>\n",
       "      <td>0</td>\n",
       "      <td>0</td>\n",
       "      <td>0</td>\n",
       "      <td>0</td>\n",
       "      <td>0</td>\n",
       "      <td>1</td>\n",
       "    </tr>\n",
       "    <tr>\n",
       "      <th>4</th>\n",
       "      <td>510000.0</td>\n",
       "      <td>3</td>\n",
       "      <td>2.00</td>\n",
       "      <td>1680</td>\n",
       "      <td>8080</td>\n",
       "      <td>8</td>\n",
       "      <td>1987</td>\n",
       "      <td>0</td>\n",
       "      <td>0</td>\n",
       "      <td>0</td>\n",
       "      <td>0</td>\n",
       "      <td>0</td>\n",
       "      <td>0</td>\n",
       "      <td>0</td>\n",
       "      <td>1</td>\n",
       "      <td>0</td>\n",
       "      <td>0</td>\n",
       "    </tr>\n",
       "  </tbody>\n",
       "</table>\n",
       "</div>"
      ],
      "text/plain": [
       "      price  bedrooms  bathrooms  sqft_living  sqft_lot  grade  yr_built  \\\n",
       "0  221900.0         3       1.00         1180      5650      7      1955   \n",
       "1  538000.0         3       2.25         2570      7242      7      1951   \n",
       "2  180000.0         2       1.00          770     10000      6      1933   \n",
       "3  604000.0         4       3.00         1960      5000      7      1965   \n",
       "4  510000.0         3       2.00         1680      8080      8      1987   \n",
       "\n",
       "   flr_1.5  flr_2.0  flr_2.5  flr_3.0  flr_3.5  wf_1.0  cdn_2  cdn_3  cdn_4  \\\n",
       "0        0        0        0        0        0       0      0      1      0   \n",
       "1        0        1        0        0        0       0      0      1      0   \n",
       "2        0        0        0        0        0       0      0      1      0   \n",
       "3        0        0        0        0        0       0      0      0      0   \n",
       "4        0        0        0        0        0       0      0      1      0   \n",
       "\n",
       "   cdn_5  \n",
       "0      0  \n",
       "1      0  \n",
       "2      0  \n",
       "3      1  \n",
       "4      0  "
      ]
     },
     "execution_count": 47,
     "metadata": {},
     "output_type": "execute_result"
    }
   ],
   "source": [
    "data = pd.concat([data, \n",
    "                  floors_dummies, \n",
    "                  waterfront_dummies, \n",
    "                  condition_dummies,],\n",
    "                axis=1)\n",
    "data.head()"
   ]
  },
  {
   "cell_type": "markdown",
   "metadata": {},
   "source": [
    "# Exploring The Data"
   ]
  },
  {
   "cell_type": "markdown",
   "metadata": {},
   "source": [
    "### Sorting the Distribution the continuous Variables\n",
    "* From the histograms earlier, the footage of the interior space and lot are skewed to the right.\n",
    "* To ensure better performance of the regression model, we will perform a log tranform and normalize the two columns."
   ]
  },
  {
   "cell_type": "code",
   "execution_count": 48,
   "metadata": {},
   "outputs": [
    {
     "data": {
      "text/plain": [
       "['grade',\n",
       " 'bathrooms',\n",
       " 'bedrooms',\n",
       " 'price',\n",
       " 'sqft_living',\n",
       " 'sqft_lot',\n",
       " 'yr_built']"
      ]
     },
     "execution_count": 48,
     "metadata": {},
     "output_type": "execute_result"
    }
   ],
   "source": [
    "continuous"
   ]
  },
  {
   "cell_type": "code",
   "execution_count": 49,
   "metadata": {},
   "outputs": [
    {
     "data": {
      "image/png": "[encoded data removed]",
      "text/plain": [
       "<Figure size 720x432 with 9 Axes>"
      ]
     },
     "metadata": {
      "needs_background": "light"
     },
     "output_type": "display_data"
    }
   ],
   "source": [
    "data_log = pd.DataFrame([])\n",
    "data_log['logsqft_living'] = np.log(data['sqft_living'])\n",
    "data_log['sqft_lot'] = np.log(data['sqft_lot'])\n",
    "data_log['price'] = np.log(data['price'])\n",
    "data_log['bedrooms'] = np.log(data['bedrooms'])\n",
    "data_log['grade'] = np.log(data['grade'])\n",
    "data_log['bathrooms'] = np.log(data['bathrooms'])\n",
    "data_log['yr_built'] = np.log(data['yr_built'])\n",
    "data_log.hist(figsize  = [10, 6]);"
   ]
  },
  {
   "cell_type": "markdown",
   "metadata": {},
   "source": [
    "* After the log transformation the continuous variables above are fairly normally distributed."
   ]
  },
  {
   "cell_type": "code",
   "execution_count": 50,
   "metadata": {},
   "outputs": [],
   "source": [
    "# Scaling the features\n",
    "scaled_sqft_living = ((data_log['logsqft_living'] - min(data_log['logsqft_living']))) / ((max(data_log['logsqft_living']) - min(data_log['logsqft_living'])))\n",
    "scaled_sqft_lot = ((data_log['sqft_lot'] - min(data_log['sqft_lot']))) / ((max(data_log['sqft_lot']) - min(data_log['sqft_lot'])))\n",
    "scaled_price = ((data_log['price'] - min(data_log['price']))) / ((max(data_log['price']) - min(data_log['price'])))\n",
    "scaled_year = ((data_log['yr_built'] - min(data_log['yr_built']))) / ((max(data_log['yr_built']) - min(data_log['yr_built'])))\n",
    "scaled_bathrooms = ((data_log['bathrooms'] - min(data_log['bathrooms']))) / ((max(data_log['bathrooms']) - min(data_log['bathrooms'])))\n",
    "scaled_grade = ((data_log['grade'] - min(data_log['grade']))) / ((max(data_log['grade']) - min(data_log['grade'])))\n",
    "scaled_bedrooms = ((data_log['bedrooms'] - min(data_log['bedrooms']))) / ((max(data_log['bedrooms']) - min(data_log['bedrooms'])))"
   ]
  },
  {
   "cell_type": "code",
   "execution_count": 51,
   "metadata": {},
   "outputs": [],
   "source": [
    "# Adding the scaled data to the data frame\n",
    "data['sqft_living'] = scaled_sqft_living\n",
    "data['sqft_lot'] = scaled_sqft_lot\n",
    "data['price'] = scaled_price\n",
    "data['yr_built'] = scaled_year\n",
    "data['bathrooms'] = scaled_bathrooms\n",
    "data['grade'] = scaled_grade\n",
    "data['bedrooms'] = scaled_bedrooms"
   ]
  },
  {
   "cell_type": "code",
   "execution_count": 52,
   "metadata": {},
   "outputs": [
    {
     "data": {
      "text/html": [
       "<div>\n",
       "<style scoped>\n",
       "    .dataframe tbody tr th:only-of-type {\n",
       "        vertical-align: middle;\n",
       "    }\n",
       "\n",
       "    .dataframe tbody tr th {\n",
       "        vertical-align: top;\n",
       "    }\n",
       "\n",
       "    .dataframe thead th {\n",
       "        text-align: right;\n",
       "    }\n",
       "</style>\n",
       "<table border=\"1\" class=\"dataframe\">\n",
       "  <thead>\n",
       "    <tr style=\"text-align: right;\">\n",
       "      <th></th>\n",
       "      <th>price</th>\n",
       "      <th>bedrooms</th>\n",
       "      <th>bathrooms</th>\n",
       "      <th>sqft_living</th>\n",
       "      <th>sqft_lot</th>\n",
       "      <th>grade</th>\n",
       "      <th>yr_built</th>\n",
       "      <th>flr_1.5</th>\n",
       "      <th>flr_2.0</th>\n",
       "      <th>flr_2.5</th>\n",
       "      <th>flr_3.0</th>\n",
       "      <th>flr_3.5</th>\n",
       "      <th>wf_1.0</th>\n",
       "      <th>cdn_2</th>\n",
       "      <th>cdn_3</th>\n",
       "      <th>cdn_4</th>\n",
       "      <th>cdn_5</th>\n",
       "    </tr>\n",
       "  </thead>\n",
       "  <tbody>\n",
       "    <tr>\n",
       "      <th>0</th>\n",
       "      <td>0.227669</td>\n",
       "      <td>0.458157</td>\n",
       "      <td>0.250000</td>\n",
       "      <td>0.322166</td>\n",
       "      <td>0.295858</td>\n",
       "      <td>0.577833</td>\n",
       "      <td>0.485598</td>\n",
       "      <td>0</td>\n",
       "      <td>0</td>\n",
       "      <td>0</td>\n",
       "      <td>0</td>\n",
       "      <td>0</td>\n",
       "      <td>0</td>\n",
       "      <td>0</td>\n",
       "      <td>1</td>\n",
       "      <td>0</td>\n",
       "      <td>0</td>\n",
       "    </tr>\n",
       "    <tr>\n",
       "      <th>1</th>\n",
       "      <td>0.420522</td>\n",
       "      <td>0.458157</td>\n",
       "      <td>0.542481</td>\n",
       "      <td>0.538392</td>\n",
       "      <td>0.326644</td>\n",
       "      <td>0.577833</td>\n",
       "      <td>0.450745</td>\n",
       "      <td>0</td>\n",
       "      <td>1</td>\n",
       "      <td>0</td>\n",
       "      <td>0</td>\n",
       "      <td>0</td>\n",
       "      <td>0</td>\n",
       "      <td>0</td>\n",
       "      <td>1</td>\n",
       "      <td>0</td>\n",
       "      <td>0</td>\n",
       "    </tr>\n",
       "    <tr>\n",
       "      <th>2</th>\n",
       "      <td>0.182099</td>\n",
       "      <td>0.289065</td>\n",
       "      <td>0.250000</td>\n",
       "      <td>0.203585</td>\n",
       "      <td>0.366664</td>\n",
       "      <td>0.472707</td>\n",
       "      <td>0.293018</td>\n",
       "      <td>0</td>\n",
       "      <td>0</td>\n",
       "      <td>0</td>\n",
       "      <td>0</td>\n",
       "      <td>0</td>\n",
       "      <td>0</td>\n",
       "      <td>0</td>\n",
       "      <td>1</td>\n",
       "      <td>0</td>\n",
       "      <td>0</td>\n",
       "    </tr>\n",
       "    <tr>\n",
       "      <th>3</th>\n",
       "      <td>0.445720</td>\n",
       "      <td>0.578130</td>\n",
       "      <td>0.646241</td>\n",
       "      <td>0.463123</td>\n",
       "      <td>0.280700</td>\n",
       "      <td>0.577833</td>\n",
       "      <td>0.572419</td>\n",
       "      <td>0</td>\n",
       "      <td>0</td>\n",
       "      <td>0</td>\n",
       "      <td>0</td>\n",
       "      <td>0</td>\n",
       "      <td>0</td>\n",
       "      <td>0</td>\n",
       "      <td>0</td>\n",
       "      <td>0</td>\n",
       "      <td>1</td>\n",
       "    </tr>\n",
       "    <tr>\n",
       "      <th>4</th>\n",
       "      <td>0.408883</td>\n",
       "      <td>0.458157</td>\n",
       "      <td>0.500000</td>\n",
       "      <td>0.420302</td>\n",
       "      <td>0.340224</td>\n",
       "      <td>0.668898</td>\n",
       "      <td>0.761879</td>\n",
       "      <td>0</td>\n",
       "      <td>0</td>\n",
       "      <td>0</td>\n",
       "      <td>0</td>\n",
       "      <td>0</td>\n",
       "      <td>0</td>\n",
       "      <td>0</td>\n",
       "      <td>1</td>\n",
       "      <td>0</td>\n",
       "      <td>0</td>\n",
       "    </tr>\n",
       "  </tbody>\n",
       "</table>\n",
       "</div>"
      ],
      "text/plain": [
       "      price  bedrooms  bathrooms  sqft_living  sqft_lot     grade  yr_built  \\\n",
       "0  0.227669  0.458157   0.250000     0.322166  0.295858  0.577833  0.485598   \n",
       "1  0.420522  0.458157   0.542481     0.538392  0.326644  0.577833  0.450745   \n",
       "2  0.182099  0.289065   0.250000     0.203585  0.366664  0.472707  0.293018   \n",
       "3  0.445720  0.578130   0.646241     0.463123  0.280700  0.577833  0.572419   \n",
       "4  0.408883  0.458157   0.500000     0.420302  0.340224  0.668898  0.761879   \n",
       "\n",
       "   flr_1.5  flr_2.0  flr_2.5  flr_3.0  flr_3.5  wf_1.0  cdn_2  cdn_3  cdn_4  \\\n",
       "0        0        0        0        0        0       0      0      1      0   \n",
       "1        0        1        0        0        0       0      0      1      0   \n",
       "2        0        0        0        0        0       0      0      1      0   \n",
       "3        0        0        0        0        0       0      0      0      0   \n",
       "4        0        0        0        0        0       0      0      1      0   \n",
       "\n",
       "   cdn_5  \n",
       "0      0  \n",
       "1      0  \n",
       "2      0  \n",
       "3      1  \n",
       "4      0  "
      ]
     },
     "execution_count": 52,
     "metadata": {},
     "output_type": "execute_result"
    }
   ],
   "source": [
    "data.head()"
   ]
  },
  {
   "cell_type": "markdown",
   "metadata": {},
   "source": [
    "# Data Modeling"
   ]
  },
  {
   "cell_type": "markdown",
   "metadata": {},
   "source": [
    "### Fitting an Initial Model"
   ]
  },
  {
   "cell_type": "code",
   "execution_count": 53,
   "metadata": {},
   "outputs": [],
   "source": [
    "# Replace the the perios . with _ for smooth running of the model\n",
    "data.columns = [col.replace('.', '_') for col in data.columns]"
   ]
  },
  {
   "cell_type": "code",
   "execution_count": 54,
   "metadata": {},
   "outputs": [
    {
     "data": {
      "text/html": [
       "<div>\n",
       "<style scoped>\n",
       "    .dataframe tbody tr th:only-of-type {\n",
       "        vertical-align: middle;\n",
       "    }\n",
       "\n",
       "    .dataframe tbody tr th {\n",
       "        vertical-align: top;\n",
       "    }\n",
       "\n",
       "    .dataframe thead th {\n",
       "        text-align: right;\n",
       "    }\n",
       "</style>\n",
       "<table border=\"1\" class=\"dataframe\">\n",
       "  <thead>\n",
       "    <tr style=\"text-align: right;\">\n",
       "      <th></th>\n",
       "      <th>bedrooms</th>\n",
       "      <th>bathrooms</th>\n",
       "      <th>sqft_living</th>\n",
       "      <th>sqft_lot</th>\n",
       "      <th>grade</th>\n",
       "      <th>yr_built</th>\n",
       "      <th>flr_1_5</th>\n",
       "      <th>flr_2_0</th>\n",
       "      <th>flr_2_5</th>\n",
       "      <th>flr_3_0</th>\n",
       "      <th>flr_3_5</th>\n",
       "      <th>wf_1_0</th>\n",
       "      <th>cdn_2</th>\n",
       "      <th>cdn_3</th>\n",
       "      <th>cdn_4</th>\n",
       "      <th>cdn_5</th>\n",
       "    </tr>\n",
       "  </thead>\n",
       "  <tbody>\n",
       "    <tr>\n",
       "      <th>0</th>\n",
       "      <td>0.458157</td>\n",
       "      <td>0.250000</td>\n",
       "      <td>0.322166</td>\n",
       "      <td>0.295858</td>\n",
       "      <td>0.577833</td>\n",
       "      <td>0.485598</td>\n",
       "      <td>0</td>\n",
       "      <td>0</td>\n",
       "      <td>0</td>\n",
       "      <td>0</td>\n",
       "      <td>0</td>\n",
       "      <td>0</td>\n",
       "      <td>0</td>\n",
       "      <td>1</td>\n",
       "      <td>0</td>\n",
       "      <td>0</td>\n",
       "    </tr>\n",
       "    <tr>\n",
       "      <th>1</th>\n",
       "      <td>0.458157</td>\n",
       "      <td>0.542481</td>\n",
       "      <td>0.538392</td>\n",
       "      <td>0.326644</td>\n",
       "      <td>0.577833</td>\n",
       "      <td>0.450745</td>\n",
       "      <td>0</td>\n",
       "      <td>1</td>\n",
       "      <td>0</td>\n",
       "      <td>0</td>\n",
       "      <td>0</td>\n",
       "      <td>0</td>\n",
       "      <td>0</td>\n",
       "      <td>1</td>\n",
       "      <td>0</td>\n",
       "      <td>0</td>\n",
       "    </tr>\n",
       "    <tr>\n",
       "      <th>2</th>\n",
       "      <td>0.289065</td>\n",
       "      <td>0.250000</td>\n",
       "      <td>0.203585</td>\n",
       "      <td>0.366664</td>\n",
       "      <td>0.472707</td>\n",
       "      <td>0.293018</td>\n",
       "      <td>0</td>\n",
       "      <td>0</td>\n",
       "      <td>0</td>\n",
       "      <td>0</td>\n",
       "      <td>0</td>\n",
       "      <td>0</td>\n",
       "      <td>0</td>\n",
       "      <td>1</td>\n",
       "      <td>0</td>\n",
       "      <td>0</td>\n",
       "    </tr>\n",
       "    <tr>\n",
       "      <th>3</th>\n",
       "      <td>0.578130</td>\n",
       "      <td>0.646241</td>\n",
       "      <td>0.463123</td>\n",
       "      <td>0.280700</td>\n",
       "      <td>0.577833</td>\n",
       "      <td>0.572419</td>\n",
       "      <td>0</td>\n",
       "      <td>0</td>\n",
       "      <td>0</td>\n",
       "      <td>0</td>\n",
       "      <td>0</td>\n",
       "      <td>0</td>\n",
       "      <td>0</td>\n",
       "      <td>0</td>\n",
       "      <td>0</td>\n",
       "      <td>1</td>\n",
       "    </tr>\n",
       "    <tr>\n",
       "      <th>4</th>\n",
       "      <td>0.458157</td>\n",
       "      <td>0.500000</td>\n",
       "      <td>0.420302</td>\n",
       "      <td>0.340224</td>\n",
       "      <td>0.668898</td>\n",
       "      <td>0.761879</td>\n",
       "      <td>0</td>\n",
       "      <td>0</td>\n",
       "      <td>0</td>\n",
       "      <td>0</td>\n",
       "      <td>0</td>\n",
       "      <td>0</td>\n",
       "      <td>0</td>\n",
       "      <td>1</td>\n",
       "      <td>0</td>\n",
       "      <td>0</td>\n",
       "    </tr>\n",
       "    <tr>\n",
       "      <th>...</th>\n",
       "      <td>...</td>\n",
       "      <td>...</td>\n",
       "      <td>...</td>\n",
       "      <td>...</td>\n",
       "      <td>...</td>\n",
       "      <td>...</td>\n",
       "      <td>...</td>\n",
       "      <td>...</td>\n",
       "      <td>...</td>\n",
       "      <td>...</td>\n",
       "      <td>...</td>\n",
       "      <td>...</td>\n",
       "      <td>...</td>\n",
       "      <td>...</td>\n",
       "      <td>...</td>\n",
       "      <td>...</td>\n",
       "    </tr>\n",
       "    <tr>\n",
       "      <th>21592</th>\n",
       "      <td>0.458157</td>\n",
       "      <td>0.580482</td>\n",
       "      <td>0.394322</td>\n",
       "      <td>0.096366</td>\n",
       "      <td>0.668898</td>\n",
       "      <td>0.949254</td>\n",
       "      <td>0</td>\n",
       "      <td>0</td>\n",
       "      <td>0</td>\n",
       "      <td>1</td>\n",
       "      <td>0</td>\n",
       "      <td>0</td>\n",
       "      <td>0</td>\n",
       "      <td>1</td>\n",
       "      <td>0</td>\n",
       "      <td>0</td>\n",
       "    </tr>\n",
       "    <tr>\n",
       "      <th>21593</th>\n",
       "      <td>0.578130</td>\n",
       "      <td>0.580482</td>\n",
       "      <td>0.508764</td>\n",
       "      <td>0.299385</td>\n",
       "      <td>0.668898</td>\n",
       "      <td>0.991553</td>\n",
       "      <td>0</td>\n",
       "      <td>1</td>\n",
       "      <td>0</td>\n",
       "      <td>0</td>\n",
       "      <td>0</td>\n",
       "      <td>0</td>\n",
       "      <td>0</td>\n",
       "      <td>1</td>\n",
       "      <td>0</td>\n",
       "      <td>0</td>\n",
       "    </tr>\n",
       "    <tr>\n",
       "      <th>21594</th>\n",
       "      <td>0.289065</td>\n",
       "      <td>0.146241</td>\n",
       "      <td>0.281690</td>\n",
       "      <td>0.118318</td>\n",
       "      <td>0.577833</td>\n",
       "      <td>0.949254</td>\n",
       "      <td>0</td>\n",
       "      <td>1</td>\n",
       "      <td>0</td>\n",
       "      <td>0</td>\n",
       "      <td>0</td>\n",
       "      <td>0</td>\n",
       "      <td>0</td>\n",
       "      <td>1</td>\n",
       "      <td>0</td>\n",
       "      <td>0</td>\n",
       "    </tr>\n",
       "    <tr>\n",
       "      <th>21595</th>\n",
       "      <td>0.458157</td>\n",
       "      <td>0.580482</td>\n",
       "      <td>0.406749</td>\n",
       "      <td>0.189052</td>\n",
       "      <td>0.668898</td>\n",
       "      <td>0.906850</td>\n",
       "      <td>0</td>\n",
       "      <td>1</td>\n",
       "      <td>0</td>\n",
       "      <td>0</td>\n",
       "      <td>0</td>\n",
       "      <td>0</td>\n",
       "      <td>0</td>\n",
       "      <td>1</td>\n",
       "      <td>0</td>\n",
       "      <td>0</td>\n",
       "    </tr>\n",
       "    <tr>\n",
       "      <th>21596</th>\n",
       "      <td>0.289065</td>\n",
       "      <td>0.146241</td>\n",
       "      <td>0.281690</td>\n",
       "      <td>0.090184</td>\n",
       "      <td>0.577833</td>\n",
       "      <td>0.940781</td>\n",
       "      <td>0</td>\n",
       "      <td>1</td>\n",
       "      <td>0</td>\n",
       "      <td>0</td>\n",
       "      <td>0</td>\n",
       "      <td>0</td>\n",
       "      <td>0</td>\n",
       "      <td>1</td>\n",
       "      <td>0</td>\n",
       "      <td>0</td>\n",
       "    </tr>\n",
       "  </tbody>\n",
       "</table>\n",
       "<p>21588 rows × 16 columns</p>\n",
       "</div>"
      ],
      "text/plain": [
       "       bedrooms  bathrooms  sqft_living  sqft_lot     grade  yr_built  \\\n",
       "0      0.458157   0.250000     0.322166  0.295858  0.577833  0.485598   \n",
       "1      0.458157   0.542481     0.538392  0.326644  0.577833  0.450745   \n",
       "2      0.289065   0.250000     0.203585  0.366664  0.472707  0.293018   \n",
       "3      0.578130   0.646241     0.463123  0.280700  0.577833  0.572419   \n",
       "4      0.458157   0.500000     0.420302  0.340224  0.668898  0.761879   \n",
       "...         ...        ...          ...       ...       ...       ...   \n",
       "21592  0.458157   0.580482     0.394322  0.096366  0.668898  0.949254   \n",
       "21593  0.578130   0.580482     0.508764  0.299385  0.668898  0.991553   \n",
       "21594  0.289065   0.146241     0.281690  0.118318  0.577833  0.949254   \n",
       "21595  0.458157   0.580482     0.406749  0.189052  0.668898  0.906850   \n",
       "21596  0.289065   0.146241     0.281690  0.090184  0.577833  0.940781   \n",
       "\n",
       "       flr_1_5  flr_2_0  flr_2_5  flr_3_0  flr_3_5  wf_1_0  cdn_2  cdn_3  \\\n",
       "0            0        0        0        0        0       0      0      1   \n",
       "1            0        1        0        0        0       0      0      1   \n",
       "2            0        0        0        0        0       0      0      1   \n",
       "3            0        0        0        0        0       0      0      0   \n",
       "4            0        0        0        0        0       0      0      1   \n",
       "...        ...      ...      ...      ...      ...     ...    ...    ...   \n",
       "21592        0        0        0        1        0       0      0      1   \n",
       "21593        0        1        0        0        0       0      0      1   \n",
       "21594        0        1        0        0        0       0      0      1   \n",
       "21595        0        1        0        0        0       0      0      1   \n",
       "21596        0        1        0        0        0       0      0      1   \n",
       "\n",
       "       cdn_4  cdn_5  \n",
       "0          0      0  \n",
       "1          0      0  \n",
       "2          0      0  \n",
       "3          0      1  \n",
       "4          0      0  \n",
       "...      ...    ...  \n",
       "21592      0      0  \n",
       "21593      0      0  \n",
       "21594      0      0  \n",
       "21595      0      0  \n",
       "21596      0      0  \n",
       "\n",
       "[21588 rows x 16 columns]"
      ]
     },
     "execution_count": 54,
     "metadata": {},
     "output_type": "execute_result"
    }
   ],
   "source": [
    "target_data = data['price']\n",
    "predictor_data = data.drop('price', axis=1)\n",
    "\n",
    "predictor_data"
   ]
  },
  {
   "cell_type": "code",
   "execution_count": 55,
   "metadata": {},
   "outputs": [
    {
     "data": {
      "text/plain": [
       "['bedrooms', 'bathrooms', 'sqft_living', 'sqft_lot', 'grade']"
      ]
     },
     "execution_count": 55,
     "metadata": {},
     "output_type": "execute_result"
    }
   ],
   "source": [
    "# Defining the problem\n",
    "target = 'price'\n",
    "\n",
    "predictor = [x for x in predictor_data.columns]\n",
    "\n",
    "predictor[:5]"
   ]
  },
  {
   "cell_type": "code",
   "execution_count": 56,
   "metadata": {},
   "outputs": [],
   "source": [
    "from statsmodels.formula.api import ols"
   ]
  },
  {
   "cell_type": "code",
   "execution_count": 61,
   "metadata": {},
   "outputs": [
    {
     "data": {
      "text/html": [
       "<table class=\"simpletable\">\n",
       "<caption>OLS Regression Results</caption>\n",
       "<tr>\n",
       "  <th>Dep. Variable:</th>          <td>price</td>      <th>  R-squared:         </th>  <td>   0.642</td> \n",
       "</tr>\n",
       "<tr>\n",
       "  <th>Model:</th>                   <td>OLS</td>       <th>  Adj. R-squared:    </th>  <td>   0.641</td> \n",
       "</tr>\n",
       "<tr>\n",
       "  <th>Method:</th>             <td>Least Squares</td>  <th>  F-statistic:       </th>  <td>   2413.</td> \n",
       "</tr>\n",
       "<tr>\n",
       "  <th>Date:</th>             <td>Wed, 14 Dec 2022</td> <th>  Prob (F-statistic):</th>   <td>  0.00</td>  \n",
       "</tr>\n",
       "<tr>\n",
       "  <th>Time:</th>                 <td>18:52:46</td>     <th>  Log-Likelihood:    </th>  <td>  27194.</td> \n",
       "</tr>\n",
       "<tr>\n",
       "  <th>No. Observations:</th>      <td> 21588</td>      <th>  AIC:               </th> <td>-5.435e+04</td>\n",
       "</tr>\n",
       "<tr>\n",
       "  <th>Df Residuals:</th>          <td> 21571</td>      <th>  BIC:               </th> <td>-5.422e+04</td>\n",
       "</tr>\n",
       "<tr>\n",
       "  <th>Df Model:</th>              <td>    16</td>      <th>                     </th>      <td> </td>    \n",
       "</tr>\n",
       "<tr>\n",
       "  <th>Covariance Type:</th>      <td>nonrobust</td>    <th>                     </th>      <td> </td>    \n",
       "</tr>\n",
       "</table>\n",
       "<table class=\"simpletable\">\n",
       "<tr>\n",
       "       <td></td>          <th>coef</th>     <th>std err</th>      <th>t</th>      <th>P>|t|</th>  <th>[0.025</th>    <th>0.975]</th>  \n",
       "</tr>\n",
       "<tr>\n",
       "  <th>Intercept</th>   <td>   -0.0491</td> <td>    0.013</td> <td>   -3.748</td> <td> 0.000</td> <td>   -0.075</td> <td>   -0.023</td>\n",
       "</tr>\n",
       "<tr>\n",
       "  <th>bedrooms</th>    <td>   -0.0981</td> <td>    0.005</td> <td>  -18.188</td> <td> 0.000</td> <td>   -0.109</td> <td>   -0.088</td>\n",
       "</tr>\n",
       "<tr>\n",
       "  <th>bathrooms</th>   <td>    0.0692</td> <td>    0.006</td> <td>   11.540</td> <td> 0.000</td> <td>    0.057</td> <td>    0.081</td>\n",
       "</tr>\n",
       "<tr>\n",
       "  <th>sqft_living</th> <td>    0.4007</td> <td>    0.009</td> <td>   45.637</td> <td> 0.000</td> <td>    0.384</td> <td>    0.418</td>\n",
       "</tr>\n",
       "<tr>\n",
       "  <th>sqft_lot</th>    <td>   -0.0573</td> <td>    0.005</td> <td>  -11.542</td> <td> 0.000</td> <td>   -0.067</td> <td>   -0.048</td>\n",
       "</tr>\n",
       "<tr>\n",
       "  <th>grade</th>       <td>    0.5796</td> <td>    0.008</td> <td>   76.713</td> <td> 0.000</td> <td>    0.565</td> <td>    0.594</td>\n",
       "</tr>\n",
       "<tr>\n",
       "  <th>yr_built</th>    <td>   -0.1521</td> <td>    0.003</td> <td>  -56.513</td> <td> 0.000</td> <td>   -0.157</td> <td>   -0.147</td>\n",
       "</tr>\n",
       "<tr>\n",
       "  <th>flr_1_5</th>     <td>    0.0043</td> <td>    0.002</td> <td>    2.368</td> <td> 0.018</td> <td>    0.001</td> <td>    0.008</td>\n",
       "</tr>\n",
       "<tr>\n",
       "  <th>flr_2_0</th>     <td>    0.0066</td> <td>    0.001</td> <td>    4.899</td> <td> 0.000</td> <td>    0.004</td> <td>    0.009</td>\n",
       "</tr>\n",
       "<tr>\n",
       "  <th>flr_2_5</th>     <td>    0.0153</td> <td>    0.006</td> <td>    2.757</td> <td> 0.006</td> <td>    0.004</td> <td>    0.026</td>\n",
       "</tr>\n",
       "<tr>\n",
       "  <th>flr_3_0</th>     <td>    0.0435</td> <td>    0.003</td> <td>   13.357</td> <td> 0.000</td> <td>    0.037</td> <td>    0.050</td>\n",
       "</tr>\n",
       "<tr>\n",
       "  <th>flr_3_5</th>     <td>    0.0392</td> <td>    0.026</td> <td>    1.506</td> <td> 0.132</td> <td>   -0.012</td> <td>    0.090</td>\n",
       "</tr>\n",
       "<tr>\n",
       "  <th>wf_1_0</th>      <td>    0.1256</td> <td>    0.006</td> <td>   21.797</td> <td> 0.000</td> <td>    0.114</td> <td>    0.137</td>\n",
       "</tr>\n",
       "<tr>\n",
       "  <th>cdn_2</th>       <td>   -0.0151</td> <td>    0.014</td> <td>   -1.093</td> <td> 0.274</td> <td>   -0.042</td> <td>    0.012</td>\n",
       "</tr>\n",
       "<tr>\n",
       "  <th>cdn_3</th>       <td>    0.0103</td> <td>    0.013</td> <td>    0.804</td> <td> 0.421</td> <td>   -0.015</td> <td>    0.035</td>\n",
       "</tr>\n",
       "<tr>\n",
       "  <th>cdn_4</th>       <td>    0.0137</td> <td>    0.013</td> <td>    1.068</td> <td> 0.285</td> <td>   -0.011</td> <td>    0.039</td>\n",
       "</tr>\n",
       "<tr>\n",
       "  <th>cdn_5</th>       <td>    0.0272</td> <td>    0.013</td> <td>    2.107</td> <td> 0.035</td> <td>    0.002</td> <td>    0.052</td>\n",
       "</tr>\n",
       "</table>\n",
       "<table class=\"simpletable\">\n",
       "<tr>\n",
       "  <th>Omnibus:</th>       <td>129.462</td> <th>  Durbin-Watson:     </th> <td>   1.964</td>\n",
       "</tr>\n",
       "<tr>\n",
       "  <th>Prob(Omnibus):</th> <td> 0.000</td>  <th>  Jarque-Bera (JB):  </th> <td> 191.770</td>\n",
       "</tr>\n",
       "<tr>\n",
       "  <th>Skew:</th>          <td> 0.019</td>  <th>  Prob(JB):          </th> <td>2.28e-42</td>\n",
       "</tr>\n",
       "<tr>\n",
       "  <th>Kurtosis:</th>      <td> 3.460</td>  <th>  Cond. No.          </th> <td>    112.</td>\n",
       "</tr>\n",
       "</table><br/><br/>Notes:<br/>[1] Standard Errors assume that the covariance matrix of the errors is correctly specified."
      ],
      "text/plain": [
       "<class 'statsmodels.iolib.summary.Summary'>\n",
       "\"\"\"\n",
       "                            OLS Regression Results                            \n",
       "==============================================================================\n",
       "Dep. Variable:                  price   R-squared:                       0.642\n",
       "Model:                            OLS   Adj. R-squared:                  0.641\n",
       "Method:                 Least Squares   F-statistic:                     2413.\n",
       "Date:                Wed, 14 Dec 2022   Prob (F-statistic):               0.00\n",
       "Time:                        18:52:46   Log-Likelihood:                 27194.\n",
       "No. Observations:               21588   AIC:                        -5.435e+04\n",
       "Df Residuals:                   21571   BIC:                        -5.422e+04\n",
       "Df Model:                          16                                         \n",
       "Covariance Type:            nonrobust                                         \n",
       "===============================================================================\n",
       "                  coef    std err          t      P>|t|      [0.025      0.975]\n",
       "-------------------------------------------------------------------------------\n",
       "Intercept      -0.0491      0.013     -3.748      0.000      -0.075      -0.023\n",
       "bedrooms       -0.0981      0.005    -18.188      0.000      -0.109      -0.088\n",
       "bathrooms       0.0692      0.006     11.540      0.000       0.057       0.081\n",
       "sqft_living     0.4007      0.009     45.637      0.000       0.384       0.418\n",
       "sqft_lot       -0.0573      0.005    -11.542      0.000      -0.067      -0.048\n",
       "grade           0.5796      0.008     76.713      0.000       0.565       0.594\n",
       "yr_built       -0.1521      0.003    -56.513      0.000      -0.157      -0.147\n",
       "flr_1_5         0.0043      0.002      2.368      0.018       0.001       0.008\n",
       "flr_2_0         0.0066      0.001      4.899      0.000       0.004       0.009\n",
       "flr_2_5         0.0153      0.006      2.757      0.006       0.004       0.026\n",
       "flr_3_0         0.0435      0.003     13.357      0.000       0.037       0.050\n",
       "flr_3_5         0.0392      0.026      1.506      0.132      -0.012       0.090\n",
       "wf_1_0          0.1256      0.006     21.797      0.000       0.114       0.137\n",
       "cdn_2          -0.0151      0.014     -1.093      0.274      -0.042       0.012\n",
       "cdn_3           0.0103      0.013      0.804      0.421      -0.015       0.035\n",
       "cdn_4           0.0137      0.013      1.068      0.285      -0.011       0.039\n",
       "cdn_5           0.0272      0.013      2.107      0.035       0.002       0.052\n",
       "==============================================================================\n",
       "Omnibus:                      129.462   Durbin-Watson:                   1.964\n",
       "Prob(Omnibus):                  0.000   Jarque-Bera (JB):              191.770\n",
       "Skew:                           0.019   Prob(JB):                     2.28e-42\n",
       "Kurtosis:                       3.460   Cond. No.                         112.\n",
       "==============================================================================\n",
       "\n",
       "Notes:\n",
       "[1] Standard Errors assume that the covariance matrix of the errors is correctly specified.\n",
       "\"\"\""
      ]
     },
     "execution_count": 61,
     "metadata": {},
     "output_type": "execute_result"
    }
   ],
   "source": [
    "# Fitting the actual model\n",
    "predictors = '+'.join(predictor)\n",
    "formula = target + '~' + predictors\n",
    "model1 = ols(formula=formula, data=data).fit()\n",
    "# model1.summary()\n",
    "model1.summary()"
   ]
  },
  {
   "cell_type": "markdown",
   "metadata": {},
   "source": [
    "* The Initial model has an R2 value of 0.642: Which means our features explain 64.2% of the changes in target variable (price).\n",
    "* Based on the above results, the below columns have a pvalue more than 0.05 making them insignificant in our model:\n",
    "    * flr_3_5\n",
    "    * cdn_2\n",
    "    * cdn_3\n",
    "    * cdn_4"
   ]
  },
  {
   "cell_type": "code",
   "execution_count": 62,
   "metadata": {},
   "outputs": [],
   "source": [
    "insignificant_cols = ['flr_3_5', 'cdn_2', 'cdn_3', 'cdn_4']\n",
    " "
   ]
  },
  {
   "cell_type": "code",
   "execution_count": 63,
   "metadata": {},
   "outputs": [],
   "source": [
    "# Dropping insignificant features\n",
    "data = data.drop(insignificant_cols, axis=1)"
   ]
  },
  {
   "cell_type": "markdown",
   "metadata": {},
   "source": [
    "### Rerunning the Model after dropping insignificant columns"
   ]
  },
  {
   "cell_type": "code",
   "execution_count": 66,
   "metadata": {},
   "outputs": [],
   "source": [
    "target = 'price'\n",
    "pred_cols = [col for col in data.columns[1:]]"
   ]
  },
  {
   "cell_type": "code",
   "execution_count": 67,
   "metadata": {},
   "outputs": [
    {
     "data": {
      "text/html": [
       "<table class=\"simpletable\">\n",
       "<caption>OLS Regression Results</caption>\n",
       "<tr>\n",
       "  <th>Dep. Variable:</th>          <td>price</td>      <th>  R-squared:         </th>  <td>   0.641</td> \n",
       "</tr>\n",
       "<tr>\n",
       "  <th>Model:</th>                   <td>OLS</td>       <th>  Adj. R-squared:    </th>  <td>   0.641</td> \n",
       "</tr>\n",
       "<tr>\n",
       "  <th>Method:</th>             <td>Least Squares</td>  <th>  F-statistic:       </th>  <td>   3209.</td> \n",
       "</tr>\n",
       "<tr>\n",
       "  <th>Date:</th>             <td>Wed, 14 Dec 2022</td> <th>  Prob (F-statistic):</th>   <td>  0.00</td>  \n",
       "</tr>\n",
       "<tr>\n",
       "  <th>Time:</th>                 <td>19:03:40</td>     <th>  Log-Likelihood:    </th>  <td>  27176.</td> \n",
       "</tr>\n",
       "<tr>\n",
       "  <th>No. Observations:</th>      <td> 21588</td>      <th>  AIC:               </th> <td>-5.433e+04</td>\n",
       "</tr>\n",
       "<tr>\n",
       "  <th>Df Residuals:</th>          <td> 21575</td>      <th>  BIC:               </th> <td>-5.422e+04</td>\n",
       "</tr>\n",
       "<tr>\n",
       "  <th>Df Model:</th>              <td>    12</td>      <th>                     </th>      <td> </td>    \n",
       "</tr>\n",
       "<tr>\n",
       "  <th>Covariance Type:</th>      <td>nonrobust</td>    <th>                     </th>      <td> </td>    \n",
       "</tr>\n",
       "</table>\n",
       "<table class=\"simpletable\">\n",
       "<tr>\n",
       "       <td></td>          <th>coef</th>     <th>std err</th>      <th>t</th>      <th>P>|t|</th>  <th>[0.025</th>    <th>0.975]</th>  \n",
       "</tr>\n",
       "<tr>\n",
       "  <th>Intercept</th>   <td>   -0.0390</td> <td>    0.004</td> <td>  -10.562</td> <td> 0.000</td> <td>   -0.046</td> <td>   -0.032</td>\n",
       "</tr>\n",
       "<tr>\n",
       "  <th>bedrooms</th>    <td>   -0.0971</td> <td>    0.005</td> <td>  -18.002</td> <td> 0.000</td> <td>   -0.108</td> <td>   -0.087</td>\n",
       "</tr>\n",
       "<tr>\n",
       "  <th>bathrooms</th>   <td>    0.0698</td> <td>    0.006</td> <td>   11.633</td> <td> 0.000</td> <td>    0.058</td> <td>    0.082</td>\n",
       "</tr>\n",
       "<tr>\n",
       "  <th>sqft_living</th> <td>    0.4015</td> <td>    0.009</td> <td>   45.702</td> <td> 0.000</td> <td>    0.384</td> <td>    0.419</td>\n",
       "</tr>\n",
       "<tr>\n",
       "  <th>sqft_lot</th>    <td>   -0.0582</td> <td>    0.005</td> <td>  -11.771</td> <td> 0.000</td> <td>   -0.068</td> <td>   -0.048</td>\n",
       "</tr>\n",
       "<tr>\n",
       "  <th>grade</th>       <td>    0.5812</td> <td>    0.008</td> <td>   77.023</td> <td> 0.000</td> <td>    0.566</td> <td>    0.596</td>\n",
       "</tr>\n",
       "<tr>\n",
       "  <th>yr_built</th>    <td>   -0.1530</td> <td>    0.003</td> <td>  -57.970</td> <td> 0.000</td> <td>   -0.158</td> <td>   -0.148</td>\n",
       "</tr>\n",
       "<tr>\n",
       "  <th>flr_1_5</th>     <td>    0.0041</td> <td>    0.002</td> <td>    2.276</td> <td> 0.023</td> <td>    0.001</td> <td>    0.008</td>\n",
       "</tr>\n",
       "<tr>\n",
       "  <th>flr_2_0</th>     <td>    0.0058</td> <td>    0.001</td> <td>    4.343</td> <td> 0.000</td> <td>    0.003</td> <td>    0.008</td>\n",
       "</tr>\n",
       "<tr>\n",
       "  <th>flr_2_5</th>     <td>    0.0146</td> <td>    0.006</td> <td>    2.634</td> <td> 0.008</td> <td>    0.004</td> <td>    0.026</td>\n",
       "</tr>\n",
       "<tr>\n",
       "  <th>flr_3_0</th>     <td>    0.0425</td> <td>    0.003</td> <td>   13.073</td> <td> 0.000</td> <td>    0.036</td> <td>    0.049</td>\n",
       "</tr>\n",
       "<tr>\n",
       "  <th>wf_1_0</th>      <td>    0.1256</td> <td>    0.006</td> <td>   21.786</td> <td> 0.000</td> <td>    0.114</td> <td>    0.137</td>\n",
       "</tr>\n",
       "<tr>\n",
       "  <th>cdn_5</th>       <td>    0.0158</td> <td>    0.002</td> <td>    8.720</td> <td> 0.000</td> <td>    0.012</td> <td>    0.019</td>\n",
       "</tr>\n",
       "</table>\n",
       "<table class=\"simpletable\">\n",
       "<tr>\n",
       "  <th>Omnibus:</th>       <td>125.996</td> <th>  Durbin-Watson:     </th> <td>   1.964</td>\n",
       "</tr>\n",
       "<tr>\n",
       "  <th>Prob(Omnibus):</th> <td> 0.000</td>  <th>  Jarque-Bera (JB):  </th> <td> 186.118</td>\n",
       "</tr>\n",
       "<tr>\n",
       "  <th>Skew:</th>          <td> 0.012</td>  <th>  Prob(JB):          </th> <td>3.85e-41</td>\n",
       "</tr>\n",
       "<tr>\n",
       "  <th>Kurtosis:</th>      <td> 3.454</td>  <th>  Cond. No.          </th> <td>    39.1</td>\n",
       "</tr>\n",
       "</table><br/><br/>Notes:<br/>[1] Standard Errors assume that the covariance matrix of the errors is correctly specified."
      ],
      "text/plain": [
       "<class 'statsmodels.iolib.summary.Summary'>\n",
       "\"\"\"\n",
       "                            OLS Regression Results                            \n",
       "==============================================================================\n",
       "Dep. Variable:                  price   R-squared:                       0.641\n",
       "Model:                            OLS   Adj. R-squared:                  0.641\n",
       "Method:                 Least Squares   F-statistic:                     3209.\n",
       "Date:                Wed, 14 Dec 2022   Prob (F-statistic):               0.00\n",
       "Time:                        19:03:40   Log-Likelihood:                 27176.\n",
       "No. Observations:               21588   AIC:                        -5.433e+04\n",
       "Df Residuals:                   21575   BIC:                        -5.422e+04\n",
       "Df Model:                          12                                         \n",
       "Covariance Type:            nonrobust                                         \n",
       "===============================================================================\n",
       "                  coef    std err          t      P>|t|      [0.025      0.975]\n",
       "-------------------------------------------------------------------------------\n",
       "Intercept      -0.0390      0.004    -10.562      0.000      -0.046      -0.032\n",
       "bedrooms       -0.0971      0.005    -18.002      0.000      -0.108      -0.087\n",
       "bathrooms       0.0698      0.006     11.633      0.000       0.058       0.082\n",
       "sqft_living     0.4015      0.009     45.702      0.000       0.384       0.419\n",
       "sqft_lot       -0.0582      0.005    -11.771      0.000      -0.068      -0.048\n",
       "grade           0.5812      0.008     77.023      0.000       0.566       0.596\n",
       "yr_built       -0.1530      0.003    -57.970      0.000      -0.158      -0.148\n",
       "flr_1_5         0.0041      0.002      2.276      0.023       0.001       0.008\n",
       "flr_2_0         0.0058      0.001      4.343      0.000       0.003       0.008\n",
       "flr_2_5         0.0146      0.006      2.634      0.008       0.004       0.026\n",
       "flr_3_0         0.0425      0.003     13.073      0.000       0.036       0.049\n",
       "wf_1_0          0.1256      0.006     21.786      0.000       0.114       0.137\n",
       "cdn_5           0.0158      0.002      8.720      0.000       0.012       0.019\n",
       "==============================================================================\n",
       "Omnibus:                      125.996   Durbin-Watson:                   1.964\n",
       "Prob(Omnibus):                  0.000   Jarque-Bera (JB):              186.118\n",
       "Skew:                           0.012   Prob(JB):                     3.85e-41\n",
       "Kurtosis:                       3.454   Cond. No.                         39.1\n",
       "==============================================================================\n",
       "\n",
       "Notes:\n",
       "[1] Standard Errors assume that the covariance matrix of the errors is correctly specified.\n",
       "\"\"\""
      ]
     },
     "execution_count": 67,
     "metadata": {},
     "output_type": "execute_result"
    }
   ],
   "source": [
    "predictors = '+'.join(pred_cols)\n",
    "formula = target + '~' + predictors\n",
    "model2 = ols(formula=formula, data=data).fit()\n",
    "model2.summary()"
   ]
  },
  {
   "cell_type": "markdown",
   "metadata": {},
   "source": [
    "* After dropping the insignificant columns with pvalue > 0.05, our model performance remained the same with an R2 value of 0.641 which means that our model explains 64.1% changes in our target variable price."
   ]
  },
  {
   "cell_type": "markdown",
   "metadata": {},
   "source": [
    "### Checking For Multicollinearity"
   ]
  },
  {
   "cell_type": "code",
   "execution_count": 68,
   "metadata": {},
   "outputs": [
    {
     "data": {
      "text/html": [
       "<div>\n",
       "<style scoped>\n",
       "    .dataframe tbody tr th:only-of-type {\n",
       "        vertical-align: middle;\n",
       "    }\n",
       "\n",
       "    .dataframe tbody tr th {\n",
       "        vertical-align: top;\n",
       "    }\n",
       "\n",
       "    .dataframe thead th {\n",
       "        text-align: right;\n",
       "    }\n",
       "</style>\n",
       "<table border=\"1\" class=\"dataframe\">\n",
       "  <thead>\n",
       "    <tr style=\"text-align: right;\">\n",
       "      <th></th>\n",
       "      <th>price</th>\n",
       "      <th>bedrooms</th>\n",
       "      <th>bathrooms</th>\n",
       "      <th>sqft_living</th>\n",
       "      <th>sqft_lot</th>\n",
       "      <th>grade</th>\n",
       "      <th>yr_built</th>\n",
       "      <th>flr_1_5</th>\n",
       "      <th>flr_2_0</th>\n",
       "      <th>flr_2_5</th>\n",
       "      <th>flr_3_0</th>\n",
       "      <th>wf_1_0</th>\n",
       "      <th>cdn_5</th>\n",
       "    </tr>\n",
       "  </thead>\n",
       "  <tbody>\n",
       "    <tr>\n",
       "      <th>0</th>\n",
       "      <td>0.227669</td>\n",
       "      <td>0.458157</td>\n",
       "      <td>0.250000</td>\n",
       "      <td>0.322166</td>\n",
       "      <td>0.295858</td>\n",
       "      <td>0.577833</td>\n",
       "      <td>0.485598</td>\n",
       "      <td>0</td>\n",
       "      <td>0</td>\n",
       "      <td>0</td>\n",
       "      <td>0</td>\n",
       "      <td>0</td>\n",
       "      <td>0</td>\n",
       "    </tr>\n",
       "    <tr>\n",
       "      <th>1</th>\n",
       "      <td>0.420522</td>\n",
       "      <td>0.458157</td>\n",
       "      <td>0.542481</td>\n",
       "      <td>0.538392</td>\n",
       "      <td>0.326644</td>\n",
       "      <td>0.577833</td>\n",
       "      <td>0.450745</td>\n",
       "      <td>0</td>\n",
       "      <td>1</td>\n",
       "      <td>0</td>\n",
       "      <td>0</td>\n",
       "      <td>0</td>\n",
       "      <td>0</td>\n",
       "    </tr>\n",
       "    <tr>\n",
       "      <th>2</th>\n",
       "      <td>0.182099</td>\n",
       "      <td>0.289065</td>\n",
       "      <td>0.250000</td>\n",
       "      <td>0.203585</td>\n",
       "      <td>0.366664</td>\n",
       "      <td>0.472707</td>\n",
       "      <td>0.293018</td>\n",
       "      <td>0</td>\n",
       "      <td>0</td>\n",
       "      <td>0</td>\n",
       "      <td>0</td>\n",
       "      <td>0</td>\n",
       "      <td>0</td>\n",
       "    </tr>\n",
       "    <tr>\n",
       "      <th>3</th>\n",
       "      <td>0.445720</td>\n",
       "      <td>0.578130</td>\n",
       "      <td>0.646241</td>\n",
       "      <td>0.463123</td>\n",
       "      <td>0.280700</td>\n",
       "      <td>0.577833</td>\n",
       "      <td>0.572419</td>\n",
       "      <td>0</td>\n",
       "      <td>0</td>\n",
       "      <td>0</td>\n",
       "      <td>0</td>\n",
       "      <td>0</td>\n",
       "      <td>1</td>\n",
       "    </tr>\n",
       "    <tr>\n",
       "      <th>4</th>\n",
       "      <td>0.408883</td>\n",
       "      <td>0.458157</td>\n",
       "      <td>0.500000</td>\n",
       "      <td>0.420302</td>\n",
       "      <td>0.340224</td>\n",
       "      <td>0.668898</td>\n",
       "      <td>0.761879</td>\n",
       "      <td>0</td>\n",
       "      <td>0</td>\n",
       "      <td>0</td>\n",
       "      <td>0</td>\n",
       "      <td>0</td>\n",
       "      <td>0</td>\n",
       "    </tr>\n",
       "  </tbody>\n",
       "</table>\n",
       "</div>"
      ],
      "text/plain": [
       "      price  bedrooms  bathrooms  sqft_living  sqft_lot     grade  yr_built  \\\n",
       "0  0.227669  0.458157   0.250000     0.322166  0.295858  0.577833  0.485598   \n",
       "1  0.420522  0.458157   0.542481     0.538392  0.326644  0.577833  0.450745   \n",
       "2  0.182099  0.289065   0.250000     0.203585  0.366664  0.472707  0.293018   \n",
       "3  0.445720  0.578130   0.646241     0.463123  0.280700  0.577833  0.572419   \n",
       "4  0.408883  0.458157   0.500000     0.420302  0.340224  0.668898  0.761879   \n",
       "\n",
       "   flr_1_5  flr_2_0  flr_2_5  flr_3_0  wf_1_0  cdn_5  \n",
       "0        0        0        0        0       0      0  \n",
       "1        0        1        0        0       0      0  \n",
       "2        0        0        0        0       0      0  \n",
       "3        0        0        0        0       0      1  \n",
       "4        0        0        0        0       0      0  "
      ]
     },
     "execution_count": 68,
     "metadata": {},
     "output_type": "execute_result"
    }
   ],
   "source": [
    "# preview of the data\n",
    "data.head()"
   ]
  },
  {
   "cell_type": "code",
   "execution_count": 69,
   "metadata": {},
   "outputs": [],
   "source": [
    "# Using variance inflation factor\n",
    "from statsmodels.stats.outliers_influence import variance_inflation_factor"
   ]
  },
  {
   "cell_type": "code",
   "execution_count": 72,
   "metadata": {},
   "outputs": [
    {
     "data": {
      "text/plain": [
       "Index(['bedrooms', 'bathrooms', 'sqft_living', 'sqft_lot', 'grade', 'yr_built',\n",
       "       'flr_1_5', 'flr_2_0', 'flr_2_5', 'flr_3_0', 'flr_3_5', 'wf_1_0',\n",
       "       'cdn_2', 'cdn_3', 'cdn_4', 'cdn_5'],\n",
       "      dtype='object')"
      ]
     },
     "execution_count": 72,
     "metadata": {},
     "output_type": "execute_result"
    }
   ],
   "source": [
    "predictor_data.columns"
   ]
  },
  {
   "cell_type": "code",
   "execution_count": 73,
   "metadata": {},
   "outputs": [],
   "source": [
    "vif = [variance_inflation_factor(predictor_data.values, i) for i in range(predictor_data.shape[1])]"
   ]
  },
  {
   "cell_type": "code",
   "execution_count": 74,
   "metadata": {},
   "outputs": [
    {
     "data": {
      "text/plain": [
       "[('bedrooms', 33.75774196525756),\n",
       " ('bathrooms', 43.47934026364086),\n",
       " ('sqft_living', 77.18165417308694),\n",
       " ('sqft_lot', 14.26997723288257),\n",
       " ('grade', 103.94857938847747),\n",
       " ('yr_built', 14.979075561809415),\n",
       " ('flr_1_5', 1.338158257819287),\n",
       " ('flr_2_0', 3.180631992109703),\n",
       " ('flr_2_5', 1.05426357112113),\n",
       " ('flr_3_0', 1.371453145735618),\n",
       " ('flr_3_5', 1.004255957834765),\n",
       " ('wf_1_0', 1.027566348531106),\n",
       " ('cdn_2', 1.3854583069384483),\n",
       " ('cdn_3', 39.70834037871197),\n",
       " ('cdn_4', 16.209989781422237),\n",
       " ('cdn_5', 5.45145458925734)]"
      ]
     },
     "execution_count": 74,
     "metadata": {},
     "output_type": "execute_result"
    }
   ],
   "source": [
    "list(zip(predictor_data.columns, vif))"
   ]
  },
  {
   "cell_type": "markdown",
   "metadata": {},
   "source": [
    "#### Comment:\n",
    "* While the pvalues of the above feature indicate that all the current features are impactful, the variance inflation factor indicates that there is high multicollinearity between the features.\n",
    "* Given this level of multicollinearity further update of the features need to be done by droping features with high variance inflation factors: cdn_3, grade, bathrooms, bedrooms, sqft_living"
   ]
  },
  {
   "cell_type": "code",
   "execution_count": 75,
   "metadata": {},
   "outputs": [],
   "source": [
    "predictor_data = predictor_data.drop(['cdn_3', 'grade', 'bathrooms', 'bedrooms','sqft_living'], axis=1)"
   ]
  },
  {
   "cell_type": "code",
   "execution_count": 82,
   "metadata": {},
   "outputs": [],
   "source": [
    "predictor_data = predictor_data.drop(['flr_3_5', 'cdn_2', 'cdn_4'], axis=1)"
   ]
  },
  {
   "cell_type": "code",
   "execution_count": 85,
   "metadata": {},
   "outputs": [
    {
     "data": {
      "text/html": [
       "<div>\n",
       "<style scoped>\n",
       "    .dataframe tbody tr th:only-of-type {\n",
       "        vertical-align: middle;\n",
       "    }\n",
       "\n",
       "    .dataframe tbody tr th {\n",
       "        vertical-align: top;\n",
       "    }\n",
       "\n",
       "    .dataframe thead th {\n",
       "        text-align: right;\n",
       "    }\n",
       "</style>\n",
       "<table border=\"1\" class=\"dataframe\">\n",
       "  <thead>\n",
       "    <tr style=\"text-align: right;\">\n",
       "      <th></th>\n",
       "      <th>sqft_lot</th>\n",
       "      <th>yr_built</th>\n",
       "      <th>flr_1_5</th>\n",
       "      <th>flr_2_0</th>\n",
       "      <th>flr_2_5</th>\n",
       "      <th>flr_3_0</th>\n",
       "      <th>wf_1_0</th>\n",
       "      <th>cdn_5</th>\n",
       "    </tr>\n",
       "  </thead>\n",
       "  <tbody>\n",
       "    <tr>\n",
       "      <th>0</th>\n",
       "      <td>0.295858</td>\n",
       "      <td>0.485598</td>\n",
       "      <td>0</td>\n",
       "      <td>0</td>\n",
       "      <td>0</td>\n",
       "      <td>0</td>\n",
       "      <td>0</td>\n",
       "      <td>0</td>\n",
       "    </tr>\n",
       "    <tr>\n",
       "      <th>1</th>\n",
       "      <td>0.326644</td>\n",
       "      <td>0.450745</td>\n",
       "      <td>0</td>\n",
       "      <td>1</td>\n",
       "      <td>0</td>\n",
       "      <td>0</td>\n",
       "      <td>0</td>\n",
       "      <td>0</td>\n",
       "    </tr>\n",
       "    <tr>\n",
       "      <th>2</th>\n",
       "      <td>0.366664</td>\n",
       "      <td>0.293018</td>\n",
       "      <td>0</td>\n",
       "      <td>0</td>\n",
       "      <td>0</td>\n",
       "      <td>0</td>\n",
       "      <td>0</td>\n",
       "      <td>0</td>\n",
       "    </tr>\n",
       "    <tr>\n",
       "      <th>3</th>\n",
       "      <td>0.280700</td>\n",
       "      <td>0.572419</td>\n",
       "      <td>0</td>\n",
       "      <td>0</td>\n",
       "      <td>0</td>\n",
       "      <td>0</td>\n",
       "      <td>0</td>\n",
       "      <td>1</td>\n",
       "    </tr>\n",
       "    <tr>\n",
       "      <th>4</th>\n",
       "      <td>0.340224</td>\n",
       "      <td>0.761879</td>\n",
       "      <td>0</td>\n",
       "      <td>0</td>\n",
       "      <td>0</td>\n",
       "      <td>0</td>\n",
       "      <td>0</td>\n",
       "      <td>0</td>\n",
       "    </tr>\n",
       "    <tr>\n",
       "      <th>...</th>\n",
       "      <td>...</td>\n",
       "      <td>...</td>\n",
       "      <td>...</td>\n",
       "      <td>...</td>\n",
       "      <td>...</td>\n",
       "      <td>...</td>\n",
       "      <td>...</td>\n",
       "      <td>...</td>\n",
       "    </tr>\n",
       "    <tr>\n",
       "      <th>21592</th>\n",
       "      <td>0.096366</td>\n",
       "      <td>0.949254</td>\n",
       "      <td>0</td>\n",
       "      <td>0</td>\n",
       "      <td>0</td>\n",
       "      <td>1</td>\n",
       "      <td>0</td>\n",
       "      <td>0</td>\n",
       "    </tr>\n",
       "    <tr>\n",
       "      <th>21593</th>\n",
       "      <td>0.299385</td>\n",
       "      <td>0.991553</td>\n",
       "      <td>0</td>\n",
       "      <td>1</td>\n",
       "      <td>0</td>\n",
       "      <td>0</td>\n",
       "      <td>0</td>\n",
       "      <td>0</td>\n",
       "    </tr>\n",
       "    <tr>\n",
       "      <th>21594</th>\n",
       "      <td>0.118318</td>\n",
       "      <td>0.949254</td>\n",
       "      <td>0</td>\n",
       "      <td>1</td>\n",
       "      <td>0</td>\n",
       "      <td>0</td>\n",
       "      <td>0</td>\n",
       "      <td>0</td>\n",
       "    </tr>\n",
       "    <tr>\n",
       "      <th>21595</th>\n",
       "      <td>0.189052</td>\n",
       "      <td>0.906850</td>\n",
       "      <td>0</td>\n",
       "      <td>1</td>\n",
       "      <td>0</td>\n",
       "      <td>0</td>\n",
       "      <td>0</td>\n",
       "      <td>0</td>\n",
       "    </tr>\n",
       "    <tr>\n",
       "      <th>21596</th>\n",
       "      <td>0.090184</td>\n",
       "      <td>0.940781</td>\n",
       "      <td>0</td>\n",
       "      <td>1</td>\n",
       "      <td>0</td>\n",
       "      <td>0</td>\n",
       "      <td>0</td>\n",
       "      <td>0</td>\n",
       "    </tr>\n",
       "  </tbody>\n",
       "</table>\n",
       "<p>21588 rows × 8 columns</p>\n",
       "</div>"
      ],
      "text/plain": [
       "       sqft_lot  yr_built  flr_1_5  flr_2_0  flr_2_5  flr_3_0  wf_1_0  cdn_5\n",
       "0      0.295858  0.485598        0        0        0        0       0      0\n",
       "1      0.326644  0.450745        0        1        0        0       0      0\n",
       "2      0.366664  0.293018        0        0        0        0       0      0\n",
       "3      0.280700  0.572419        0        0        0        0       0      1\n",
       "4      0.340224  0.761879        0        0        0        0       0      0\n",
       "...         ...       ...      ...      ...      ...      ...     ...    ...\n",
       "21592  0.096366  0.949254        0        0        0        1       0      0\n",
       "21593  0.299385  0.991553        0        1        0        0       0      0\n",
       "21594  0.118318  0.949254        0        1        0        0       0      0\n",
       "21595  0.189052  0.906850        0        1        0        0       0      0\n",
       "21596  0.090184  0.940781        0        1        0        0       0      0\n",
       "\n",
       "[21588 rows x 8 columns]"
      ]
     },
     "execution_count": 85,
     "metadata": {},
     "output_type": "execute_result"
    }
   ],
   "source": [
    "predictor_data"
   ]
  },
  {
   "cell_type": "markdown",
   "metadata": {},
   "source": [
    "#### Rerunning the Model after droping columns with multicollinearity"
   ]
  },
  {
   "cell_type": "code",
   "execution_count": 87,
   "metadata": {},
   "outputs": [
    {
     "data": {
      "text/plain": [
       "Index(['sqft_lot', 'yr_built', 'flr_1_5', 'flr_2_0', 'flr_2_5', 'flr_3_0',\n",
       "       'wf_1_0', 'cdn_5'],\n",
       "      dtype='object')"
      ]
     },
     "execution_count": 87,
     "metadata": {},
     "output_type": "execute_result"
    }
   ],
   "source": [
    "target = 'price'\n",
    "pred_cols = [col for col in predictor_data.columns]\n",
    "predictor_data.columns\n"
   ]
  },
  {
   "cell_type": "code",
   "execution_count": 88,
   "metadata": {},
   "outputs": [
    {
     "data": {
      "text/html": [
       "<table class=\"simpletable\">\n",
       "<caption>OLS Regression Results</caption>\n",
       "<tr>\n",
       "  <th>Dep. Variable:</th>          <td>price</td>      <th>  R-squared:         </th>  <td>   0.191</td> \n",
       "</tr>\n",
       "<tr>\n",
       "  <th>Model:</th>                   <td>OLS</td>       <th>  Adj. R-squared:    </th>  <td>   0.191</td> \n",
       "</tr>\n",
       "<tr>\n",
       "  <th>Method:</th>             <td>Least Squares</td>  <th>  F-statistic:       </th>  <td>   636.6</td> \n",
       "</tr>\n",
       "<tr>\n",
       "  <th>Date:</th>             <td>Wed, 14 Dec 2022</td> <th>  Prob (F-statistic):</th>   <td>  0.00</td>  \n",
       "</tr>\n",
       "<tr>\n",
       "  <th>Time:</th>                 <td>19:23:25</td>     <th>  Log-Likelihood:    </th>  <td>  18407.</td> \n",
       "</tr>\n",
       "<tr>\n",
       "  <th>No. Observations:</th>      <td> 21588</td>      <th>  AIC:               </th> <td>-3.680e+04</td>\n",
       "</tr>\n",
       "<tr>\n",
       "  <th>Df Residuals:</th>          <td> 21579</td>      <th>  BIC:               </th> <td>-3.672e+04</td>\n",
       "</tr>\n",
       "<tr>\n",
       "  <th>Df Model:</th>              <td>     8</td>      <th>                     </th>      <td> </td>    \n",
       "</tr>\n",
       "<tr>\n",
       "  <th>Covariance Type:</th>      <td>nonrobust</td>    <th>                     </th>      <td> </td>    \n",
       "</tr>\n",
       "</table>\n",
       "<table class=\"simpletable\">\n",
       "<tr>\n",
       "      <td></td>         <th>coef</th>     <th>std err</th>      <th>t</th>      <th>P>|t|</th>  <th>[0.025</th>    <th>0.975]</th>  \n",
       "</tr>\n",
       "<tr>\n",
       "  <th>Intercept</th> <td>    0.2950</td> <td>    0.003</td> <td>   94.927</td> <td> 0.000</td> <td>    0.289</td> <td>    0.301</td>\n",
       "</tr>\n",
       "<tr>\n",
       "  <th>sqft_lot</th>  <td>    0.2129</td> <td>    0.007</td> <td>   31.836</td> <td> 0.000</td> <td>    0.200</td> <td>    0.226</td>\n",
       "</tr>\n",
       "<tr>\n",
       "  <th>yr_built</th>  <td>   -0.0469</td> <td>    0.004</td> <td>  -12.801</td> <td> 0.000</td> <td>   -0.054</td> <td>   -0.040</td>\n",
       "</tr>\n",
       "<tr>\n",
       "  <th>flr_1_5</th>   <td>    0.0432</td> <td>    0.003</td> <td>   16.090</td> <td> 0.000</td> <td>    0.038</td> <td>    0.048</td>\n",
       "</tr>\n",
       "<tr>\n",
       "  <th>flr_2_0</th>   <td>    0.0977</td> <td>    0.002</td> <td>   54.256</td> <td> 0.000</td> <td>    0.094</td> <td>    0.101</td>\n",
       "</tr>\n",
       "<tr>\n",
       "  <th>flr_2_5</th>   <td>    0.1811</td> <td>    0.008</td> <td>   22.085</td> <td> 0.000</td> <td>    0.165</td> <td>    0.197</td>\n",
       "</tr>\n",
       "<tr>\n",
       "  <th>flr_3_0</th>   <td>    0.1290</td> <td>    0.005</td> <td>   26.988</td> <td> 0.000</td> <td>    0.120</td> <td>    0.138</td>\n",
       "</tr>\n",
       "<tr>\n",
       "  <th>wf_1_0</th>    <td>    0.2000</td> <td>    0.009</td> <td>   23.225</td> <td> 0.000</td> <td>    0.183</td> <td>    0.217</td>\n",
       "</tr>\n",
       "<tr>\n",
       "  <th>cdn_5</th>     <td>    0.0369</td> <td>    0.003</td> <td>   13.737</td> <td> 0.000</td> <td>    0.032</td> <td>    0.042</td>\n",
       "</tr>\n",
       "</table>\n",
       "<table class=\"simpletable\">\n",
       "<tr>\n",
       "  <th>Omnibus:</th>       <td>366.327</td> <th>  Durbin-Watson:     </th> <td>   1.970</td>\n",
       "</tr>\n",
       "<tr>\n",
       "  <th>Prob(Omnibus):</th> <td> 0.000</td>  <th>  Jarque-Bera (JB):  </th> <td> 432.266</td>\n",
       "</tr>\n",
       "<tr>\n",
       "  <th>Skew:</th>          <td> 0.265</td>  <th>  Prob(JB):          </th> <td>1.36e-94</td>\n",
       "</tr>\n",
       "<tr>\n",
       "  <th>Kurtosis:</th>      <td> 3.448</td>  <th>  Cond. No.          </th> <td>    16.3</td>\n",
       "</tr>\n",
       "</table><br/><br/>Notes:<br/>[1] Standard Errors assume that the covariance matrix of the errors is correctly specified."
      ],
      "text/plain": [
       "<class 'statsmodels.iolib.summary.Summary'>\n",
       "\"\"\"\n",
       "                            OLS Regression Results                            \n",
       "==============================================================================\n",
       "Dep. Variable:                  price   R-squared:                       0.191\n",
       "Model:                            OLS   Adj. R-squared:                  0.191\n",
       "Method:                 Least Squares   F-statistic:                     636.6\n",
       "Date:                Wed, 14 Dec 2022   Prob (F-statistic):               0.00\n",
       "Time:                        19:23:25   Log-Likelihood:                 18407.\n",
       "No. Observations:               21588   AIC:                        -3.680e+04\n",
       "Df Residuals:                   21579   BIC:                        -3.672e+04\n",
       "Df Model:                           8                                         \n",
       "Covariance Type:            nonrobust                                         \n",
       "==============================================================================\n",
       "                 coef    std err          t      P>|t|      [0.025      0.975]\n",
       "------------------------------------------------------------------------------\n",
       "Intercept      0.2950      0.003     94.927      0.000       0.289       0.301\n",
       "sqft_lot       0.2129      0.007     31.836      0.000       0.200       0.226\n",
       "yr_built      -0.0469      0.004    -12.801      0.000      -0.054      -0.040\n",
       "flr_1_5        0.0432      0.003     16.090      0.000       0.038       0.048\n",
       "flr_2_0        0.0977      0.002     54.256      0.000       0.094       0.101\n",
       "flr_2_5        0.1811      0.008     22.085      0.000       0.165       0.197\n",
       "flr_3_0        0.1290      0.005     26.988      0.000       0.120       0.138\n",
       "wf_1_0         0.2000      0.009     23.225      0.000       0.183       0.217\n",
       "cdn_5          0.0369      0.003     13.737      0.000       0.032       0.042\n",
       "==============================================================================\n",
       "Omnibus:                      366.327   Durbin-Watson:                   1.970\n",
       "Prob(Omnibus):                  0.000   Jarque-Bera (JB):              432.266\n",
       "Skew:                           0.265   Prob(JB):                     1.36e-94\n",
       "Kurtosis:                       3.448   Cond. No.                         16.3\n",
       "==============================================================================\n",
       "\n",
       "Notes:\n",
       "[1] Standard Errors assume that the covariance matrix of the errors is correctly specified.\n",
       "\"\"\""
      ]
     },
     "execution_count": 88,
     "metadata": {},
     "output_type": "execute_result"
    }
   ],
   "source": [
    "predictors = '+'.join(pred_cols)\n",
    "formula = target + '~' + predictors\n",
    "model3 = ols(formula=formula, data=data).fit()\n",
    "model3.summary()"
   ]
  },
  {
   "cell_type": "markdown",
   "metadata": {},
   "source": [
    "#### Comment:\n",
    "Dropping columns with multicollinearity affects the perfomance of the model giving R2 value of 0.91"
   ]
  },
  {
   "cell_type": "markdown",
   "metadata": {},
   "source": [
    "### Checking For Normality"
   ]
  },
  {
   "cell_type": "code",
   "execution_count": 89,
   "metadata": {},
   "outputs": [],
   "source": [
    "import statsmodels.api as sm\n",
    "import scipy.stats as stats"
   ]
  },
  {
   "cell_type": "code",
   "execution_count": 90,
   "metadata": {},
   "outputs": [
    {
     "data": {
      "image/png": "[encoded data removed]",
      "text/plain": [
       "<Figure size 432x288 with 1 Axes>"
      ]
     },
     "metadata": {
      "needs_background": "light"
     },
     "output_type": "display_data"
    }
   ],
   "source": [
    "# Using a qq plot to check for normality of residuals\n",
    "sm.graphics.qqplot(model2.resid, dist=stats.norm, line='45', fit=True);"
   ]
  },
  {
   "cell_type": "markdown",
   "metadata": {},
   "source": [
    "* Our models residuals are normally distributed with slight violations near the top tail. \n",
    "* The model is meets the normality condition."
   ]
  },
  {
   "cell_type": "markdown",
   "metadata": {},
   "source": [
    "### Checking For Homoscedasticity"
   ]
  },
  {
   "cell_type": "code",
   "execution_count": 91,
   "metadata": {},
   "outputs": [],
   "source": [
    "X_data = data.drop('price', axis=1)"
   ]
  },
  {
   "cell_type": "code",
   "execution_count": 92,
   "metadata": {},
   "outputs": [
    {
     "data": {
      "text/plain": [
       "[<matplotlib.lines.Line2D at 0x2ba561daf10>]"
      ]
     },
     "execution_count": 92,
     "metadata": {},
     "output_type": "execute_result"
    },
    {
     "data": {
      "image/png": "[encoded data removed]",
      "text/plain": [
       "<Figure size 432x288 with 1 Axes>"
      ]
     },
     "metadata": {
      "needs_background": "light"
     },
     "output_type": "display_data"
    }
   ],
   "source": [
    "plt.scatter(model2.predict(X_data), model2.resid)\n",
    "plt.plot(model2.predict(X_data), [0 for i in range(len(data))])"
   ]
  },
  {
   "cell_type": "markdown",
   "metadata": {},
   "source": [
    "##### Comment:\n",
    "There are no descernible patterns in the residuals showing that the homoscedasticity assumption has been met by our model."
   ]
  },
  {
   "cell_type": "code",
   "execution_count": 95,
   "metadata": {},
   "outputs": [
    {
     "data": {
      "text/html": [
       "<table class=\"simpletable\">\n",
       "<caption>OLS Regression Results</caption>\n",
       "<tr>\n",
       "  <th>Dep. Variable:</th>          <td>price</td>      <th>  R-squared:         </th>  <td>   0.641</td> \n",
       "</tr>\n",
       "<tr>\n",
       "  <th>Model:</th>                   <td>OLS</td>       <th>  Adj. R-squared:    </th>  <td>   0.641</td> \n",
       "</tr>\n",
       "<tr>\n",
       "  <th>Method:</th>             <td>Least Squares</td>  <th>  F-statistic:       </th>  <td>   3209.</td> \n",
       "</tr>\n",
       "<tr>\n",
       "  <th>Date:</th>             <td>Wed, 14 Dec 2022</td> <th>  Prob (F-statistic):</th>   <td>  0.00</td>  \n",
       "</tr>\n",
       "<tr>\n",
       "  <th>Time:</th>                 <td>19:45:52</td>     <th>  Log-Likelihood:    </th>  <td>  27176.</td> \n",
       "</tr>\n",
       "<tr>\n",
       "  <th>No. Observations:</th>      <td> 21588</td>      <th>  AIC:               </th> <td>-5.433e+04</td>\n",
       "</tr>\n",
       "<tr>\n",
       "  <th>Df Residuals:</th>          <td> 21575</td>      <th>  BIC:               </th> <td>-5.422e+04</td>\n",
       "</tr>\n",
       "<tr>\n",
       "  <th>Df Model:</th>              <td>    12</td>      <th>                     </th>      <td> </td>    \n",
       "</tr>\n",
       "<tr>\n",
       "  <th>Covariance Type:</th>      <td>nonrobust</td>    <th>                     </th>      <td> </td>    \n",
       "</tr>\n",
       "</table>\n",
       "<table class=\"simpletable\">\n",
       "<tr>\n",
       "       <td></td>          <th>coef</th>     <th>std err</th>      <th>t</th>      <th>P>|t|</th>  <th>[0.025</th>    <th>0.975]</th>  \n",
       "</tr>\n",
       "<tr>\n",
       "  <th>Intercept</th>   <td>   -0.0390</td> <td>    0.004</td> <td>  -10.562</td> <td> 0.000</td> <td>   -0.046</td> <td>   -0.032</td>\n",
       "</tr>\n",
       "<tr>\n",
       "  <th>bedrooms</th>    <td>   -0.0971</td> <td>    0.005</td> <td>  -18.002</td> <td> 0.000</td> <td>   -0.108</td> <td>   -0.087</td>\n",
       "</tr>\n",
       "<tr>\n",
       "  <th>bathrooms</th>   <td>    0.0698</td> <td>    0.006</td> <td>   11.633</td> <td> 0.000</td> <td>    0.058</td> <td>    0.082</td>\n",
       "</tr>\n",
       "<tr>\n",
       "  <th>sqft_living</th> <td>    0.4015</td> <td>    0.009</td> <td>   45.702</td> <td> 0.000</td> <td>    0.384</td> <td>    0.419</td>\n",
       "</tr>\n",
       "<tr>\n",
       "  <th>sqft_lot</th>    <td>   -0.0582</td> <td>    0.005</td> <td>  -11.771</td> <td> 0.000</td> <td>   -0.068</td> <td>   -0.048</td>\n",
       "</tr>\n",
       "<tr>\n",
       "  <th>grade</th>       <td>    0.5812</td> <td>    0.008</td> <td>   77.023</td> <td> 0.000</td> <td>    0.566</td> <td>    0.596</td>\n",
       "</tr>\n",
       "<tr>\n",
       "  <th>yr_built</th>    <td>   -0.1530</td> <td>    0.003</td> <td>  -57.970</td> <td> 0.000</td> <td>   -0.158</td> <td>   -0.148</td>\n",
       "</tr>\n",
       "<tr>\n",
       "  <th>flr_1_5</th>     <td>    0.0041</td> <td>    0.002</td> <td>    2.276</td> <td> 0.023</td> <td>    0.001</td> <td>    0.008</td>\n",
       "</tr>\n",
       "<tr>\n",
       "  <th>flr_2_0</th>     <td>    0.0058</td> <td>    0.001</td> <td>    4.343</td> <td> 0.000</td> <td>    0.003</td> <td>    0.008</td>\n",
       "</tr>\n",
       "<tr>\n",
       "  <th>flr_2_5</th>     <td>    0.0146</td> <td>    0.006</td> <td>    2.634</td> <td> 0.008</td> <td>    0.004</td> <td>    0.026</td>\n",
       "</tr>\n",
       "<tr>\n",
       "  <th>flr_3_0</th>     <td>    0.0425</td> <td>    0.003</td> <td>   13.073</td> <td> 0.000</td> <td>    0.036</td> <td>    0.049</td>\n",
       "</tr>\n",
       "<tr>\n",
       "  <th>wf_1_0</th>      <td>    0.1256</td> <td>    0.006</td> <td>   21.786</td> <td> 0.000</td> <td>    0.114</td> <td>    0.137</td>\n",
       "</tr>\n",
       "<tr>\n",
       "  <th>cdn_5</th>       <td>    0.0158</td> <td>    0.002</td> <td>    8.720</td> <td> 0.000</td> <td>    0.012</td> <td>    0.019</td>\n",
       "</tr>\n",
       "</table>\n",
       "<table class=\"simpletable\">\n",
       "<tr>\n",
       "  <th>Omnibus:</th>       <td>125.996</td> <th>  Durbin-Watson:     </th> <td>   1.964</td>\n",
       "</tr>\n",
       "<tr>\n",
       "  <th>Prob(Omnibus):</th> <td> 0.000</td>  <th>  Jarque-Bera (JB):  </th> <td> 186.118</td>\n",
       "</tr>\n",
       "<tr>\n",
       "  <th>Skew:</th>          <td> 0.012</td>  <th>  Prob(JB):          </th> <td>3.85e-41</td>\n",
       "</tr>\n",
       "<tr>\n",
       "  <th>Kurtosis:</th>      <td> 3.454</td>  <th>  Cond. No.          </th> <td>    39.1</td>\n",
       "</tr>\n",
       "</table><br/><br/>Notes:<br/>[1] Standard Errors assume that the covariance matrix of the errors is correctly specified."
      ],
      "text/plain": [
       "<class 'statsmodels.iolib.summary.Summary'>\n",
       "\"\"\"\n",
       "                            OLS Regression Results                            \n",
       "==============================================================================\n",
       "Dep. Variable:                  price   R-squared:                       0.641\n",
       "Model:                            OLS   Adj. R-squared:                  0.641\n",
       "Method:                 Least Squares   F-statistic:                     3209.\n",
       "Date:                Wed, 14 Dec 2022   Prob (F-statistic):               0.00\n",
       "Time:                        19:45:52   Log-Likelihood:                 27176.\n",
       "No. Observations:               21588   AIC:                        -5.433e+04\n",
       "Df Residuals:                   21575   BIC:                        -5.422e+04\n",
       "Df Model:                          12                                         \n",
       "Covariance Type:            nonrobust                                         \n",
       "===============================================================================\n",
       "                  coef    std err          t      P>|t|      [0.025      0.975]\n",
       "-------------------------------------------------------------------------------\n",
       "Intercept      -0.0390      0.004    -10.562      0.000      -0.046      -0.032\n",
       "bedrooms       -0.0971      0.005    -18.002      0.000      -0.108      -0.087\n",
       "bathrooms       0.0698      0.006     11.633      0.000       0.058       0.082\n",
       "sqft_living     0.4015      0.009     45.702      0.000       0.384       0.419\n",
       "sqft_lot       -0.0582      0.005    -11.771      0.000      -0.068      -0.048\n",
       "grade           0.5812      0.008     77.023      0.000       0.566       0.596\n",
       "yr_built       -0.1530      0.003    -57.970      0.000      -0.158      -0.148\n",
       "flr_1_5         0.0041      0.002      2.276      0.023       0.001       0.008\n",
       "flr_2_0         0.0058      0.001      4.343      0.000       0.003       0.008\n",
       "flr_2_5         0.0146      0.006      2.634      0.008       0.004       0.026\n",
       "flr_3_0         0.0425      0.003     13.073      0.000       0.036       0.049\n",
       "wf_1_0          0.1256      0.006     21.786      0.000       0.114       0.137\n",
       "cdn_5           0.0158      0.002      8.720      0.000       0.012       0.019\n",
       "==============================================================================\n",
       "Omnibus:                      125.996   Durbin-Watson:                   1.964\n",
       "Prob(Omnibus):                  0.000   Jarque-Bera (JB):              186.118\n",
       "Skew:                           0.012   Prob(JB):                     3.85e-41\n",
       "Kurtosis:                       3.454   Cond. No.                         39.1\n",
       "==============================================================================\n",
       "\n",
       "Notes:\n",
       "[1] Standard Errors assume that the covariance matrix of the errors is correctly specified.\n",
       "\"\"\""
      ]
     },
     "execution_count": 95,
     "metadata": {},
     "output_type": "execute_result"
    }
   ],
   "source": [
    "model2.summary()"
   ]
  },
  {
   "cell_type": "markdown",
   "metadata": {},
   "source": [
    "# Conclusions:\n",
    "**R Squared and Adjusted R Squared:**<br>\n",
    "Our model has a R squared and Adjusted R squared value of 0.641 which indicates that our predictor variables can explain 64.1% of the target variable price. <br>\n",
    "\n",
    "**P- Value for the F-Statistic:** <br>\n",
    "Our p-value is 0.000 indicating that there is good linear relationship between our predictor variables and the target variable (price). <br>\n",
    "\n",
    "**P- Value for the features:** <br>\n",
    "All the selected predictor features have a p-value of less than 0.05 indicating their significance in predicting the target variable. <br>\n",
    "\n",
    "**Parameter:** <br>\n",
    "        **sqft_living (footage of the living space):** <br>\n",
    "        With a coefficient of 0.4 from the model makes the feature positively correlated feature with price. A unit increase in the footage increases the house price by 0.4 units. <br>\n",
    "        **grade (this is a grade given based on King County grading system):** <br>\n",
    "        The feature has a coefficient of 0.58 showing a positive correlation with the price of the housing units. A unit increase in the grade given increase the price of the house unit by 0.5 unit. <br>\n",
    "        **yr_built (built year):** <br>\n",
    "        The feature has a coefficient of -0.153 showing a slight negative correlation with price. As the age of a house increases by one year, the price decreases by 0.15.\n"
   ]
  },
  {
   "cell_type": "markdown",
   "metadata": {},
   "source": []
  }
 ],
 "metadata": {
  "kernelspec": {
   "display_name": "Python (learn-env)",
   "language": "python",
   "name": "learn-env"
  },
  "language_info": {
   "codemirror_mode": {
    "name": "ipython",
    "version": 3
   },
   "file_extension": ".py",
   "mimetype": "text/x-python",
   "name": "python",
   "nbconvert_exporter": "python",
   "pygments_lexer": "ipython3",
   "version": "3.8.5"
  },
  "vscode": {
   "interpreter": {
    "hash": "ad2bdc8ecc057115af97d19610ffacc2b4e99fae6737bb82f5d7fb13d2f2c186"
   }
  }
 },
 "nbformat": 4,
 "nbformat_minor": 2
}
